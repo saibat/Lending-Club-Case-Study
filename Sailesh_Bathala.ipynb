{
 "cells": [
  {
   "cell_type": "markdown",
   "id": "d7b9498e",
   "metadata": {},
   "source": [
    "# Welcome to the Lending Club Case Study by Sailesh and Ashwini"
   ]
  },
  {
   "cell_type": "markdown",
   "id": "f050ef30",
   "metadata": {},
   "source": [
    "#### Importing all Python libraries needed"
   ]
  },
  {
   "cell_type": "code",
   "execution_count": 1,
   "id": "86e511f4",
   "metadata": {},
   "outputs": [],
   "source": [
    "import numpy as np\n",
    "import pandas as pd\n",
    "import matplotlib.pyplot as plt\n",
    "import seaborn as sns\n",
    "import warnings\n",
    "warnings.filterwarnings('ignore')"
   ]
  },
  {
   "cell_type": "code",
   "execution_count": 2,
   "id": "4ea9b5f4",
   "metadata": {},
   "outputs": [],
   "source": [
    "# To display all the columns\n",
    "pd.options.display.max_columns = None\n",
    "# To display all the rows\n",
    "pd.options.display.max_rows = None\n"
   ]
  },
  {
   "cell_type": "markdown",
   "id": "cef78574",
   "metadata": {},
   "source": [
    "#### Reading Data from the loan.csv file"
   ]
  },
  {
   "cell_type": "code",
   "execution_count": 3,
   "id": "d099db43",
   "metadata": {},
   "outputs": [
    {
     "name": "stdout",
     "output_type": "stream",
     "text": [
      "        id  member_id  loan_amnt  funded_amnt  funded_amnt_inv        term  \\\n",
      "0  1077501    1296599       5000         5000           4975.0   36 months   \n",
      "1  1077430    1314167       2500         2500           2500.0   60 months   \n",
      "2  1077175    1313524       2400         2400           2400.0   36 months   \n",
      "3  1076863    1277178      10000        10000          10000.0   36 months   \n",
      "4  1075358    1311748       3000         3000           3000.0   60 months   \n",
      "\n",
      "  int_rate  installment grade sub_grade                 emp_title emp_length  \\\n",
      "0   10.65%       162.87     B        B2                       NaN  10+ years   \n",
      "1   15.27%        59.83     C        C4                     Ryder   < 1 year   \n",
      "2   15.96%        84.33     C        C5                       NaN  10+ years   \n",
      "3   13.49%       339.31     C        C1       AIR RESOURCES BOARD  10+ years   \n",
      "4   12.69%        67.79     B        B5  University Medical Group     1 year   \n",
      "\n",
      "  home_ownership  annual_inc verification_status issue_d  loan_status  \\\n",
      "0           RENT     24000.0            Verified  Dec-11   Fully Paid   \n",
      "1           RENT     30000.0     Source Verified  Dec-11  Charged Off   \n",
      "2           RENT     12252.0        Not Verified  Dec-11   Fully Paid   \n",
      "3           RENT     49200.0     Source Verified  Dec-11   Fully Paid   \n",
      "4           RENT     80000.0     Source Verified  Dec-11      Current   \n",
      "\n",
      "  pymnt_plan                                                url  \\\n",
      "0          n  https://lendingclub.com/browse/loanDetail.acti...   \n",
      "1          n  https://lendingclub.com/browse/loanDetail.acti...   \n",
      "2          n  https://lendingclub.com/browse/loanDetail.acti...   \n",
      "3          n  https://lendingclub.com/browse/loanDetail.acti...   \n",
      "4          n  https://lendingclub.com/browse/loanDetail.acti...   \n",
      "\n",
      "                                                desc         purpose  \\\n",
      "0    Borrower added on 12/22/11 > I need to upgra...     credit_card   \n",
      "1    Borrower added on 12/22/11 > I plan to use t...             car   \n",
      "2                                                NaN  small_business   \n",
      "3    Borrower added on 12/21/11 > to pay for prop...           other   \n",
      "4    Borrower added on 12/21/11 > I plan on combi...           other   \n",
      "\n",
      "                  title zip_code addr_state    dti  delinq_2yrs  \\\n",
      "0              Computer    860xx         AZ  27.65            0   \n",
      "1                  bike    309xx         GA   1.00            0   \n",
      "2  real estate business    606xx         IL   8.72            0   \n",
      "3              personel    917xx         CA  20.00            0   \n",
      "4              Personal    972xx         OR  17.94            0   \n",
      "\n",
      "  earliest_cr_line  inq_last_6mths  mths_since_last_delinq  \\\n",
      "0           Jan-85               1                     NaN   \n",
      "1           Apr-99               5                     NaN   \n",
      "2           Nov-01               2                     NaN   \n",
      "3           Feb-96               1                    35.0   \n",
      "4           Jan-96               0                    38.0   \n",
      "\n",
      "   mths_since_last_record  open_acc  pub_rec  revol_bal revol_util  total_acc  \\\n",
      "0                     NaN         3        0      13648     83.70%          9   \n",
      "1                     NaN         3        0       1687      9.40%          4   \n",
      "2                     NaN         2        0       2956     98.50%         10   \n",
      "3                     NaN        10        0       5598        21%         37   \n",
      "4                     NaN        15        0      27783     53.90%         38   \n",
      "\n",
      "  initial_list_status  out_prncp  out_prncp_inv   total_pymnt  \\\n",
      "0                   f       0.00           0.00   5863.155187   \n",
      "1                   f       0.00           0.00   1008.710000   \n",
      "2                   f       0.00           0.00   3005.666844   \n",
      "3                   f       0.00           0.00  12231.890000   \n",
      "4                   f     524.06         524.06   3513.330000   \n",
      "\n",
      "   total_pymnt_inv  total_rec_prncp  total_rec_int  total_rec_late_fee  \\\n",
      "0          5833.84          5000.00         863.16                0.00   \n",
      "1          1008.71           456.46         435.17                0.00   \n",
      "2          3005.67          2400.00         605.67                0.00   \n",
      "3         12231.89         10000.00        2214.92               16.97   \n",
      "4          3513.33          2475.94        1037.39                0.00   \n",
      "\n",
      "   recoveries  collection_recovery_fee last_pymnt_d  last_pymnt_amnt  \\\n",
      "0        0.00                     0.00       Jan-15           171.62   \n",
      "1      117.08                     1.11       Apr-13           119.66   \n",
      "2        0.00                     0.00       Jun-14           649.91   \n",
      "3        0.00                     0.00       Jan-15           357.48   \n",
      "4        0.00                     0.00       May-16            67.79   \n",
      "\n",
      "  next_pymnt_d last_credit_pull_d  collections_12_mths_ex_med  \\\n",
      "0          NaN             May-16                         0.0   \n",
      "1          NaN             Sep-13                         0.0   \n",
      "2          NaN             May-16                         0.0   \n",
      "3          NaN             Apr-16                         0.0   \n",
      "4       Jun-16             May-16                         0.0   \n",
      "\n",
      "   mths_since_last_major_derog  policy_code application_type  \\\n",
      "0                          NaN            1       INDIVIDUAL   \n",
      "1                          NaN            1       INDIVIDUAL   \n",
      "2                          NaN            1       INDIVIDUAL   \n",
      "3                          NaN            1       INDIVIDUAL   \n",
      "4                          NaN            1       INDIVIDUAL   \n",
      "\n",
      "   annual_inc_joint  dti_joint  verification_status_joint  acc_now_delinq  \\\n",
      "0               NaN        NaN                        NaN               0   \n",
      "1               NaN        NaN                        NaN               0   \n",
      "2               NaN        NaN                        NaN               0   \n",
      "3               NaN        NaN                        NaN               0   \n",
      "4               NaN        NaN                        NaN               0   \n",
      "\n",
      "   tot_coll_amt  tot_cur_bal  open_acc_6m  open_il_6m  open_il_12m  \\\n",
      "0           NaN          NaN          NaN         NaN          NaN   \n",
      "1           NaN          NaN          NaN         NaN          NaN   \n",
      "2           NaN          NaN          NaN         NaN          NaN   \n",
      "3           NaN          NaN          NaN         NaN          NaN   \n",
      "4           NaN          NaN          NaN         NaN          NaN   \n",
      "\n",
      "   open_il_24m  mths_since_rcnt_il  total_bal_il  il_util  open_rv_12m  \\\n",
      "0          NaN                 NaN           NaN      NaN          NaN   \n",
      "1          NaN                 NaN           NaN      NaN          NaN   \n",
      "2          NaN                 NaN           NaN      NaN          NaN   \n",
      "3          NaN                 NaN           NaN      NaN          NaN   \n",
      "4          NaN                 NaN           NaN      NaN          NaN   \n",
      "\n",
      "   open_rv_24m  max_bal_bc  all_util  total_rev_hi_lim  inq_fi  total_cu_tl  \\\n",
      "0          NaN         NaN       NaN               NaN     NaN          NaN   \n",
      "1          NaN         NaN       NaN               NaN     NaN          NaN   \n",
      "2          NaN         NaN       NaN               NaN     NaN          NaN   \n",
      "3          NaN         NaN       NaN               NaN     NaN          NaN   \n",
      "4          NaN         NaN       NaN               NaN     NaN          NaN   \n",
      "\n",
      "   inq_last_12m  acc_open_past_24mths  avg_cur_bal  bc_open_to_buy  bc_util  \\\n",
      "0           NaN                   NaN          NaN             NaN      NaN   \n",
      "1           NaN                   NaN          NaN             NaN      NaN   \n",
      "2           NaN                   NaN          NaN             NaN      NaN   \n",
      "3           NaN                   NaN          NaN             NaN      NaN   \n",
      "4           NaN                   NaN          NaN             NaN      NaN   \n",
      "\n",
      "   chargeoff_within_12_mths  delinq_amnt  mo_sin_old_il_acct  \\\n",
      "0                       0.0            0                 NaN   \n",
      "1                       0.0            0                 NaN   \n",
      "2                       0.0            0                 NaN   \n",
      "3                       0.0            0                 NaN   \n",
      "4                       0.0            0                 NaN   \n",
      "\n",
      "   mo_sin_old_rev_tl_op  mo_sin_rcnt_rev_tl_op  mo_sin_rcnt_tl  mort_acc  \\\n",
      "0                   NaN                    NaN             NaN       NaN   \n",
      "1                   NaN                    NaN             NaN       NaN   \n",
      "2                   NaN                    NaN             NaN       NaN   \n",
      "3                   NaN                    NaN             NaN       NaN   \n",
      "4                   NaN                    NaN             NaN       NaN   \n",
      "\n",
      "   mths_since_recent_bc  mths_since_recent_bc_dlq  mths_since_recent_inq  \\\n",
      "0                   NaN                       NaN                    NaN   \n",
      "1                   NaN                       NaN                    NaN   \n",
      "2                   NaN                       NaN                    NaN   \n",
      "3                   NaN                       NaN                    NaN   \n",
      "4                   NaN                       NaN                    NaN   \n",
      "\n",
      "   mths_since_recent_revol_delinq  num_accts_ever_120_pd  num_actv_bc_tl  \\\n",
      "0                             NaN                    NaN             NaN   \n",
      "1                             NaN                    NaN             NaN   \n",
      "2                             NaN                    NaN             NaN   \n",
      "3                             NaN                    NaN             NaN   \n",
      "4                             NaN                    NaN             NaN   \n",
      "\n",
      "   num_actv_rev_tl  num_bc_sats  num_bc_tl  num_il_tl  num_op_rev_tl  \\\n",
      "0              NaN          NaN        NaN        NaN            NaN   \n",
      "1              NaN          NaN        NaN        NaN            NaN   \n",
      "2              NaN          NaN        NaN        NaN            NaN   \n",
      "3              NaN          NaN        NaN        NaN            NaN   \n",
      "4              NaN          NaN        NaN        NaN            NaN   \n",
      "\n",
      "   num_rev_accts  num_rev_tl_bal_gt_0  num_sats  num_tl_120dpd_2m  \\\n",
      "0            NaN                  NaN       NaN               NaN   \n",
      "1            NaN                  NaN       NaN               NaN   \n",
      "2            NaN                  NaN       NaN               NaN   \n",
      "3            NaN                  NaN       NaN               NaN   \n",
      "4            NaN                  NaN       NaN               NaN   \n",
      "\n",
      "   num_tl_30dpd  num_tl_90g_dpd_24m  num_tl_op_past_12m  pct_tl_nvr_dlq  \\\n",
      "0           NaN                 NaN                 NaN             NaN   \n",
      "1           NaN                 NaN                 NaN             NaN   \n",
      "2           NaN                 NaN                 NaN             NaN   \n",
      "3           NaN                 NaN                 NaN             NaN   \n",
      "4           NaN                 NaN                 NaN             NaN   \n",
      "\n",
      "   percent_bc_gt_75  pub_rec_bankruptcies  tax_liens  tot_hi_cred_lim  \\\n",
      "0               NaN                   0.0        0.0              NaN   \n",
      "1               NaN                   0.0        0.0              NaN   \n",
      "2               NaN                   0.0        0.0              NaN   \n",
      "3               NaN                   0.0        0.0              NaN   \n",
      "4               NaN                   0.0        0.0              NaN   \n",
      "\n",
      "   total_bal_ex_mort  total_bc_limit  total_il_high_credit_limit  \n",
      "0                NaN             NaN                         NaN  \n",
      "1                NaN             NaN                         NaN  \n",
      "2                NaN             NaN                         NaN  \n",
      "3                NaN             NaN                         NaN  \n",
      "4                NaN             NaN                         NaN  \n"
     ]
    }
   ],
   "source": [
    "loans_dataset = pd.read_csv(\"loan.csv\", encoding='utf-8')\n",
    "#print the head of the dataset\n",
    "print(loans_dataset.head())"
   ]
  },
  {
   "cell_type": "markdown",
   "id": "fb138337",
   "metadata": {},
   "source": [
    "#### Finding the shape of the dataset"
   ]
  },
  {
   "cell_type": "code",
   "execution_count": 4,
   "id": "bf5fd871",
   "metadata": {},
   "outputs": [
    {
     "data": {
      "text/plain": [
       "(39717, 111)"
      ]
     },
     "execution_count": 4,
     "metadata": {},
     "output_type": "execute_result"
    }
   ],
   "source": [
    "loans_dataset.shape"
   ]
  },
  {
   "cell_type": "markdown",
   "id": "c8c71972",
   "metadata": {},
   "source": [
    "#### Dropping all columns with na values"
   ]
  },
  {
   "cell_type": "code",
   "execution_count": 5,
   "id": "80780726",
   "metadata": {},
   "outputs": [
    {
     "data": {
      "text/html": [
       "<div>\n",
       "<style scoped>\n",
       "    .dataframe tbody tr th:only-of-type {\n",
       "        vertical-align: middle;\n",
       "    }\n",
       "\n",
       "    .dataframe tbody tr th {\n",
       "        vertical-align: top;\n",
       "    }\n",
       "\n",
       "    .dataframe thead th {\n",
       "        text-align: right;\n",
       "    }\n",
       "</style>\n",
       "<table border=\"1\" class=\"dataframe\">\n",
       "  <thead>\n",
       "    <tr style=\"text-align: right;\">\n",
       "      <th></th>\n",
       "      <th>id</th>\n",
       "      <th>member_id</th>\n",
       "      <th>loan_amnt</th>\n",
       "      <th>funded_amnt</th>\n",
       "      <th>funded_amnt_inv</th>\n",
       "      <th>term</th>\n",
       "      <th>int_rate</th>\n",
       "      <th>installment</th>\n",
       "      <th>grade</th>\n",
       "      <th>sub_grade</th>\n",
       "      <th>emp_title</th>\n",
       "      <th>emp_length</th>\n",
       "      <th>home_ownership</th>\n",
       "      <th>annual_inc</th>\n",
       "      <th>verification_status</th>\n",
       "      <th>issue_d</th>\n",
       "      <th>loan_status</th>\n",
       "      <th>pymnt_plan</th>\n",
       "      <th>url</th>\n",
       "      <th>desc</th>\n",
       "      <th>purpose</th>\n",
       "      <th>title</th>\n",
       "      <th>zip_code</th>\n",
       "      <th>addr_state</th>\n",
       "      <th>dti</th>\n",
       "      <th>delinq_2yrs</th>\n",
       "      <th>earliest_cr_line</th>\n",
       "      <th>inq_last_6mths</th>\n",
       "      <th>mths_since_last_delinq</th>\n",
       "      <th>mths_since_last_record</th>\n",
       "      <th>open_acc</th>\n",
       "      <th>pub_rec</th>\n",
       "      <th>revol_bal</th>\n",
       "      <th>revol_util</th>\n",
       "      <th>total_acc</th>\n",
       "      <th>initial_list_status</th>\n",
       "      <th>out_prncp</th>\n",
       "      <th>out_prncp_inv</th>\n",
       "      <th>total_pymnt</th>\n",
       "      <th>total_pymnt_inv</th>\n",
       "      <th>total_rec_prncp</th>\n",
       "      <th>total_rec_int</th>\n",
       "      <th>total_rec_late_fee</th>\n",
       "      <th>recoveries</th>\n",
       "      <th>collection_recovery_fee</th>\n",
       "      <th>last_pymnt_d</th>\n",
       "      <th>last_pymnt_amnt</th>\n",
       "      <th>next_pymnt_d</th>\n",
       "      <th>last_credit_pull_d</th>\n",
       "      <th>collections_12_mths_ex_med</th>\n",
       "      <th>policy_code</th>\n",
       "      <th>application_type</th>\n",
       "      <th>acc_now_delinq</th>\n",
       "      <th>chargeoff_within_12_mths</th>\n",
       "      <th>delinq_amnt</th>\n",
       "      <th>pub_rec_bankruptcies</th>\n",
       "      <th>tax_liens</th>\n",
       "    </tr>\n",
       "  </thead>\n",
       "  <tbody>\n",
       "    <tr>\n",
       "      <th>0</th>\n",
       "      <td>1077501</td>\n",
       "      <td>1296599</td>\n",
       "      <td>5000</td>\n",
       "      <td>5000</td>\n",
       "      <td>4975.0</td>\n",
       "      <td>36 months</td>\n",
       "      <td>10.65%</td>\n",
       "      <td>162.87</td>\n",
       "      <td>B</td>\n",
       "      <td>B2</td>\n",
       "      <td>NaN</td>\n",
       "      <td>10+ years</td>\n",
       "      <td>RENT</td>\n",
       "      <td>24000.0</td>\n",
       "      <td>Verified</td>\n",
       "      <td>Dec-11</td>\n",
       "      <td>Fully Paid</td>\n",
       "      <td>n</td>\n",
       "      <td>https://lendingclub.com/browse/loanDetail.acti...</td>\n",
       "      <td>Borrower added on 12/22/11 &gt; I need to upgra...</td>\n",
       "      <td>credit_card</td>\n",
       "      <td>Computer</td>\n",
       "      <td>860xx</td>\n",
       "      <td>AZ</td>\n",
       "      <td>27.65</td>\n",
       "      <td>0</td>\n",
       "      <td>Jan-85</td>\n",
       "      <td>1</td>\n",
       "      <td>NaN</td>\n",
       "      <td>NaN</td>\n",
       "      <td>3</td>\n",
       "      <td>0</td>\n",
       "      <td>13648</td>\n",
       "      <td>83.70%</td>\n",
       "      <td>9</td>\n",
       "      <td>f</td>\n",
       "      <td>0.00</td>\n",
       "      <td>0.00</td>\n",
       "      <td>5863.155187</td>\n",
       "      <td>5833.84</td>\n",
       "      <td>5000.00</td>\n",
       "      <td>863.16</td>\n",
       "      <td>0.00</td>\n",
       "      <td>0.00</td>\n",
       "      <td>0.00</td>\n",
       "      <td>Jan-15</td>\n",
       "      <td>171.62</td>\n",
       "      <td>NaN</td>\n",
       "      <td>May-16</td>\n",
       "      <td>0.0</td>\n",
       "      <td>1</td>\n",
       "      <td>INDIVIDUAL</td>\n",
       "      <td>0</td>\n",
       "      <td>0.0</td>\n",
       "      <td>0</td>\n",
       "      <td>0.0</td>\n",
       "      <td>0.0</td>\n",
       "    </tr>\n",
       "    <tr>\n",
       "      <th>1</th>\n",
       "      <td>1077430</td>\n",
       "      <td>1314167</td>\n",
       "      <td>2500</td>\n",
       "      <td>2500</td>\n",
       "      <td>2500.0</td>\n",
       "      <td>60 months</td>\n",
       "      <td>15.27%</td>\n",
       "      <td>59.83</td>\n",
       "      <td>C</td>\n",
       "      <td>C4</td>\n",
       "      <td>Ryder</td>\n",
       "      <td>&lt; 1 year</td>\n",
       "      <td>RENT</td>\n",
       "      <td>30000.0</td>\n",
       "      <td>Source Verified</td>\n",
       "      <td>Dec-11</td>\n",
       "      <td>Charged Off</td>\n",
       "      <td>n</td>\n",
       "      <td>https://lendingclub.com/browse/loanDetail.acti...</td>\n",
       "      <td>Borrower added on 12/22/11 &gt; I plan to use t...</td>\n",
       "      <td>car</td>\n",
       "      <td>bike</td>\n",
       "      <td>309xx</td>\n",
       "      <td>GA</td>\n",
       "      <td>1.00</td>\n",
       "      <td>0</td>\n",
       "      <td>Apr-99</td>\n",
       "      <td>5</td>\n",
       "      <td>NaN</td>\n",
       "      <td>NaN</td>\n",
       "      <td>3</td>\n",
       "      <td>0</td>\n",
       "      <td>1687</td>\n",
       "      <td>9.40%</td>\n",
       "      <td>4</td>\n",
       "      <td>f</td>\n",
       "      <td>0.00</td>\n",
       "      <td>0.00</td>\n",
       "      <td>1008.710000</td>\n",
       "      <td>1008.71</td>\n",
       "      <td>456.46</td>\n",
       "      <td>435.17</td>\n",
       "      <td>0.00</td>\n",
       "      <td>117.08</td>\n",
       "      <td>1.11</td>\n",
       "      <td>Apr-13</td>\n",
       "      <td>119.66</td>\n",
       "      <td>NaN</td>\n",
       "      <td>Sep-13</td>\n",
       "      <td>0.0</td>\n",
       "      <td>1</td>\n",
       "      <td>INDIVIDUAL</td>\n",
       "      <td>0</td>\n",
       "      <td>0.0</td>\n",
       "      <td>0</td>\n",
       "      <td>0.0</td>\n",
       "      <td>0.0</td>\n",
       "    </tr>\n",
       "    <tr>\n",
       "      <th>2</th>\n",
       "      <td>1077175</td>\n",
       "      <td>1313524</td>\n",
       "      <td>2400</td>\n",
       "      <td>2400</td>\n",
       "      <td>2400.0</td>\n",
       "      <td>36 months</td>\n",
       "      <td>15.96%</td>\n",
       "      <td>84.33</td>\n",
       "      <td>C</td>\n",
       "      <td>C5</td>\n",
       "      <td>NaN</td>\n",
       "      <td>10+ years</td>\n",
       "      <td>RENT</td>\n",
       "      <td>12252.0</td>\n",
       "      <td>Not Verified</td>\n",
       "      <td>Dec-11</td>\n",
       "      <td>Fully Paid</td>\n",
       "      <td>n</td>\n",
       "      <td>https://lendingclub.com/browse/loanDetail.acti...</td>\n",
       "      <td>NaN</td>\n",
       "      <td>small_business</td>\n",
       "      <td>real estate business</td>\n",
       "      <td>606xx</td>\n",
       "      <td>IL</td>\n",
       "      <td>8.72</td>\n",
       "      <td>0</td>\n",
       "      <td>Nov-01</td>\n",
       "      <td>2</td>\n",
       "      <td>NaN</td>\n",
       "      <td>NaN</td>\n",
       "      <td>2</td>\n",
       "      <td>0</td>\n",
       "      <td>2956</td>\n",
       "      <td>98.50%</td>\n",
       "      <td>10</td>\n",
       "      <td>f</td>\n",
       "      <td>0.00</td>\n",
       "      <td>0.00</td>\n",
       "      <td>3005.666844</td>\n",
       "      <td>3005.67</td>\n",
       "      <td>2400.00</td>\n",
       "      <td>605.67</td>\n",
       "      <td>0.00</td>\n",
       "      <td>0.00</td>\n",
       "      <td>0.00</td>\n",
       "      <td>Jun-14</td>\n",
       "      <td>649.91</td>\n",
       "      <td>NaN</td>\n",
       "      <td>May-16</td>\n",
       "      <td>0.0</td>\n",
       "      <td>1</td>\n",
       "      <td>INDIVIDUAL</td>\n",
       "      <td>0</td>\n",
       "      <td>0.0</td>\n",
       "      <td>0</td>\n",
       "      <td>0.0</td>\n",
       "      <td>0.0</td>\n",
       "    </tr>\n",
       "    <tr>\n",
       "      <th>3</th>\n",
       "      <td>1076863</td>\n",
       "      <td>1277178</td>\n",
       "      <td>10000</td>\n",
       "      <td>10000</td>\n",
       "      <td>10000.0</td>\n",
       "      <td>36 months</td>\n",
       "      <td>13.49%</td>\n",
       "      <td>339.31</td>\n",
       "      <td>C</td>\n",
       "      <td>C1</td>\n",
       "      <td>AIR RESOURCES BOARD</td>\n",
       "      <td>10+ years</td>\n",
       "      <td>RENT</td>\n",
       "      <td>49200.0</td>\n",
       "      <td>Source Verified</td>\n",
       "      <td>Dec-11</td>\n",
       "      <td>Fully Paid</td>\n",
       "      <td>n</td>\n",
       "      <td>https://lendingclub.com/browse/loanDetail.acti...</td>\n",
       "      <td>Borrower added on 12/21/11 &gt; to pay for prop...</td>\n",
       "      <td>other</td>\n",
       "      <td>personel</td>\n",
       "      <td>917xx</td>\n",
       "      <td>CA</td>\n",
       "      <td>20.00</td>\n",
       "      <td>0</td>\n",
       "      <td>Feb-96</td>\n",
       "      <td>1</td>\n",
       "      <td>35.0</td>\n",
       "      <td>NaN</td>\n",
       "      <td>10</td>\n",
       "      <td>0</td>\n",
       "      <td>5598</td>\n",
       "      <td>21%</td>\n",
       "      <td>37</td>\n",
       "      <td>f</td>\n",
       "      <td>0.00</td>\n",
       "      <td>0.00</td>\n",
       "      <td>12231.890000</td>\n",
       "      <td>12231.89</td>\n",
       "      <td>10000.00</td>\n",
       "      <td>2214.92</td>\n",
       "      <td>16.97</td>\n",
       "      <td>0.00</td>\n",
       "      <td>0.00</td>\n",
       "      <td>Jan-15</td>\n",
       "      <td>357.48</td>\n",
       "      <td>NaN</td>\n",
       "      <td>Apr-16</td>\n",
       "      <td>0.0</td>\n",
       "      <td>1</td>\n",
       "      <td>INDIVIDUAL</td>\n",
       "      <td>0</td>\n",
       "      <td>0.0</td>\n",
       "      <td>0</td>\n",
       "      <td>0.0</td>\n",
       "      <td>0.0</td>\n",
       "    </tr>\n",
       "    <tr>\n",
       "      <th>4</th>\n",
       "      <td>1075358</td>\n",
       "      <td>1311748</td>\n",
       "      <td>3000</td>\n",
       "      <td>3000</td>\n",
       "      <td>3000.0</td>\n",
       "      <td>60 months</td>\n",
       "      <td>12.69%</td>\n",
       "      <td>67.79</td>\n",
       "      <td>B</td>\n",
       "      <td>B5</td>\n",
       "      <td>University Medical Group</td>\n",
       "      <td>1 year</td>\n",
       "      <td>RENT</td>\n",
       "      <td>80000.0</td>\n",
       "      <td>Source Verified</td>\n",
       "      <td>Dec-11</td>\n",
       "      <td>Current</td>\n",
       "      <td>n</td>\n",
       "      <td>https://lendingclub.com/browse/loanDetail.acti...</td>\n",
       "      <td>Borrower added on 12/21/11 &gt; I plan on combi...</td>\n",
       "      <td>other</td>\n",
       "      <td>Personal</td>\n",
       "      <td>972xx</td>\n",
       "      <td>OR</td>\n",
       "      <td>17.94</td>\n",
       "      <td>0</td>\n",
       "      <td>Jan-96</td>\n",
       "      <td>0</td>\n",
       "      <td>38.0</td>\n",
       "      <td>NaN</td>\n",
       "      <td>15</td>\n",
       "      <td>0</td>\n",
       "      <td>27783</td>\n",
       "      <td>53.90%</td>\n",
       "      <td>38</td>\n",
       "      <td>f</td>\n",
       "      <td>524.06</td>\n",
       "      <td>524.06</td>\n",
       "      <td>3513.330000</td>\n",
       "      <td>3513.33</td>\n",
       "      <td>2475.94</td>\n",
       "      <td>1037.39</td>\n",
       "      <td>0.00</td>\n",
       "      <td>0.00</td>\n",
       "      <td>0.00</td>\n",
       "      <td>May-16</td>\n",
       "      <td>67.79</td>\n",
       "      <td>Jun-16</td>\n",
       "      <td>May-16</td>\n",
       "      <td>0.0</td>\n",
       "      <td>1</td>\n",
       "      <td>INDIVIDUAL</td>\n",
       "      <td>0</td>\n",
       "      <td>0.0</td>\n",
       "      <td>0</td>\n",
       "      <td>0.0</td>\n",
       "      <td>0.0</td>\n",
       "    </tr>\n",
       "  </tbody>\n",
       "</table>\n",
       "</div>"
      ],
      "text/plain": [
       "        id  member_id  loan_amnt  funded_amnt  funded_amnt_inv        term  \\\n",
       "0  1077501    1296599       5000         5000           4975.0   36 months   \n",
       "1  1077430    1314167       2500         2500           2500.0   60 months   \n",
       "2  1077175    1313524       2400         2400           2400.0   36 months   \n",
       "3  1076863    1277178      10000        10000          10000.0   36 months   \n",
       "4  1075358    1311748       3000         3000           3000.0   60 months   \n",
       "\n",
       "  int_rate  installment grade sub_grade                 emp_title emp_length  \\\n",
       "0   10.65%       162.87     B        B2                       NaN  10+ years   \n",
       "1   15.27%        59.83     C        C4                     Ryder   < 1 year   \n",
       "2   15.96%        84.33     C        C5                       NaN  10+ years   \n",
       "3   13.49%       339.31     C        C1       AIR RESOURCES BOARD  10+ years   \n",
       "4   12.69%        67.79     B        B5  University Medical Group     1 year   \n",
       "\n",
       "  home_ownership  annual_inc verification_status issue_d  loan_status  \\\n",
       "0           RENT     24000.0            Verified  Dec-11   Fully Paid   \n",
       "1           RENT     30000.0     Source Verified  Dec-11  Charged Off   \n",
       "2           RENT     12252.0        Not Verified  Dec-11   Fully Paid   \n",
       "3           RENT     49200.0     Source Verified  Dec-11   Fully Paid   \n",
       "4           RENT     80000.0     Source Verified  Dec-11      Current   \n",
       "\n",
       "  pymnt_plan                                                url  \\\n",
       "0          n  https://lendingclub.com/browse/loanDetail.acti...   \n",
       "1          n  https://lendingclub.com/browse/loanDetail.acti...   \n",
       "2          n  https://lendingclub.com/browse/loanDetail.acti...   \n",
       "3          n  https://lendingclub.com/browse/loanDetail.acti...   \n",
       "4          n  https://lendingclub.com/browse/loanDetail.acti...   \n",
       "\n",
       "                                                desc         purpose  \\\n",
       "0    Borrower added on 12/22/11 > I need to upgra...     credit_card   \n",
       "1    Borrower added on 12/22/11 > I plan to use t...             car   \n",
       "2                                                NaN  small_business   \n",
       "3    Borrower added on 12/21/11 > to pay for prop...           other   \n",
       "4    Borrower added on 12/21/11 > I plan on combi...           other   \n",
       "\n",
       "                  title zip_code addr_state    dti  delinq_2yrs  \\\n",
       "0              Computer    860xx         AZ  27.65            0   \n",
       "1                  bike    309xx         GA   1.00            0   \n",
       "2  real estate business    606xx         IL   8.72            0   \n",
       "3              personel    917xx         CA  20.00            0   \n",
       "4              Personal    972xx         OR  17.94            0   \n",
       "\n",
       "  earliest_cr_line  inq_last_6mths  mths_since_last_delinq  \\\n",
       "0           Jan-85               1                     NaN   \n",
       "1           Apr-99               5                     NaN   \n",
       "2           Nov-01               2                     NaN   \n",
       "3           Feb-96               1                    35.0   \n",
       "4           Jan-96               0                    38.0   \n",
       "\n",
       "   mths_since_last_record  open_acc  pub_rec  revol_bal revol_util  total_acc  \\\n",
       "0                     NaN         3        0      13648     83.70%          9   \n",
       "1                     NaN         3        0       1687      9.40%          4   \n",
       "2                     NaN         2        0       2956     98.50%         10   \n",
       "3                     NaN        10        0       5598        21%         37   \n",
       "4                     NaN        15        0      27783     53.90%         38   \n",
       "\n",
       "  initial_list_status  out_prncp  out_prncp_inv   total_pymnt  \\\n",
       "0                   f       0.00           0.00   5863.155187   \n",
       "1                   f       0.00           0.00   1008.710000   \n",
       "2                   f       0.00           0.00   3005.666844   \n",
       "3                   f       0.00           0.00  12231.890000   \n",
       "4                   f     524.06         524.06   3513.330000   \n",
       "\n",
       "   total_pymnt_inv  total_rec_prncp  total_rec_int  total_rec_late_fee  \\\n",
       "0          5833.84          5000.00         863.16                0.00   \n",
       "1          1008.71           456.46         435.17                0.00   \n",
       "2          3005.67          2400.00         605.67                0.00   \n",
       "3         12231.89         10000.00        2214.92               16.97   \n",
       "4          3513.33          2475.94        1037.39                0.00   \n",
       "\n",
       "   recoveries  collection_recovery_fee last_pymnt_d  last_pymnt_amnt  \\\n",
       "0        0.00                     0.00       Jan-15           171.62   \n",
       "1      117.08                     1.11       Apr-13           119.66   \n",
       "2        0.00                     0.00       Jun-14           649.91   \n",
       "3        0.00                     0.00       Jan-15           357.48   \n",
       "4        0.00                     0.00       May-16            67.79   \n",
       "\n",
       "  next_pymnt_d last_credit_pull_d  collections_12_mths_ex_med  policy_code  \\\n",
       "0          NaN             May-16                         0.0            1   \n",
       "1          NaN             Sep-13                         0.0            1   \n",
       "2          NaN             May-16                         0.0            1   \n",
       "3          NaN             Apr-16                         0.0            1   \n",
       "4       Jun-16             May-16                         0.0            1   \n",
       "\n",
       "  application_type  acc_now_delinq  chargeoff_within_12_mths  delinq_amnt  \\\n",
       "0       INDIVIDUAL               0                       0.0            0   \n",
       "1       INDIVIDUAL               0                       0.0            0   \n",
       "2       INDIVIDUAL               0                       0.0            0   \n",
       "3       INDIVIDUAL               0                       0.0            0   \n",
       "4       INDIVIDUAL               0                       0.0            0   \n",
       "\n",
       "   pub_rec_bankruptcies  tax_liens  \n",
       "0                   0.0        0.0  \n",
       "1                   0.0        0.0  \n",
       "2                   0.0        0.0  \n",
       "3                   0.0        0.0  \n",
       "4                   0.0        0.0  "
      ]
     },
     "execution_count": 5,
     "metadata": {},
     "output_type": "execute_result"
    }
   ],
   "source": [
    "loans_dataset.dropna(axis = 1, how = 'all', inplace = True)\n",
    "loans_dataset.head()"
   ]
  },
  {
   "cell_type": "code",
   "execution_count": 6,
   "id": "ceec555b",
   "metadata": {},
   "outputs": [
    {
     "data": {
      "text/plain": [
       "(39717, 57)"
      ]
     },
     "execution_count": 6,
     "metadata": {},
     "output_type": "execute_result"
    }
   ],
   "source": [
    "loans_dataset.shape"
   ]
  },
  {
   "cell_type": "markdown",
   "id": "fbcd3a6a",
   "metadata": {},
   "source": [
    "#### Let us now drop the columns that have only a single data which does not really add value to analysis\n",
    "1. pymnt_plan\n",
    "2. initial_list_status\n",
    "3. collections_12_mths_ex_med\n",
    "4. policy_code\n",
    "5. application_type\n",
    "6. pub_rec_bankruptcies\n",
    "7. tax_liens\n",
    "8. delinq_amnt\n",
    "9. acc_now_delinq"
   ]
  },
  {
   "cell_type": "code",
   "execution_count": 7,
   "id": "61e5dd9a",
   "metadata": {},
   "outputs": [
    {
     "data": {
      "text/html": [
       "<div>\n",
       "<style scoped>\n",
       "    .dataframe tbody tr th:only-of-type {\n",
       "        vertical-align: middle;\n",
       "    }\n",
       "\n",
       "    .dataframe tbody tr th {\n",
       "        vertical-align: top;\n",
       "    }\n",
       "\n",
       "    .dataframe thead th {\n",
       "        text-align: right;\n",
       "    }\n",
       "</style>\n",
       "<table border=\"1\" class=\"dataframe\">\n",
       "  <thead>\n",
       "    <tr style=\"text-align: right;\">\n",
       "      <th></th>\n",
       "      <th>id</th>\n",
       "      <th>member_id</th>\n",
       "      <th>loan_amnt</th>\n",
       "      <th>funded_amnt</th>\n",
       "      <th>funded_amnt_inv</th>\n",
       "      <th>term</th>\n",
       "      <th>int_rate</th>\n",
       "      <th>installment</th>\n",
       "      <th>grade</th>\n",
       "      <th>sub_grade</th>\n",
       "      <th>emp_title</th>\n",
       "      <th>emp_length</th>\n",
       "      <th>home_ownership</th>\n",
       "      <th>annual_inc</th>\n",
       "      <th>verification_status</th>\n",
       "      <th>issue_d</th>\n",
       "      <th>loan_status</th>\n",
       "      <th>url</th>\n",
       "      <th>desc</th>\n",
       "      <th>purpose</th>\n",
       "      <th>title</th>\n",
       "      <th>zip_code</th>\n",
       "      <th>addr_state</th>\n",
       "      <th>dti</th>\n",
       "      <th>delinq_2yrs</th>\n",
       "      <th>earliest_cr_line</th>\n",
       "      <th>inq_last_6mths</th>\n",
       "      <th>mths_since_last_delinq</th>\n",
       "      <th>mths_since_last_record</th>\n",
       "      <th>open_acc</th>\n",
       "      <th>pub_rec</th>\n",
       "      <th>revol_bal</th>\n",
       "      <th>revol_util</th>\n",
       "      <th>total_acc</th>\n",
       "      <th>out_prncp</th>\n",
       "      <th>out_prncp_inv</th>\n",
       "      <th>total_pymnt</th>\n",
       "      <th>total_pymnt_inv</th>\n",
       "      <th>total_rec_prncp</th>\n",
       "      <th>total_rec_int</th>\n",
       "      <th>total_rec_late_fee</th>\n",
       "      <th>recoveries</th>\n",
       "      <th>collection_recovery_fee</th>\n",
       "      <th>last_pymnt_d</th>\n",
       "      <th>last_pymnt_amnt</th>\n",
       "      <th>next_pymnt_d</th>\n",
       "      <th>last_credit_pull_d</th>\n",
       "      <th>chargeoff_within_12_mths</th>\n",
       "    </tr>\n",
       "  </thead>\n",
       "  <tbody>\n",
       "    <tr>\n",
       "      <th>0</th>\n",
       "      <td>1077501</td>\n",
       "      <td>1296599</td>\n",
       "      <td>5000</td>\n",
       "      <td>5000</td>\n",
       "      <td>4975.0</td>\n",
       "      <td>36 months</td>\n",
       "      <td>10.65%</td>\n",
       "      <td>162.87</td>\n",
       "      <td>B</td>\n",
       "      <td>B2</td>\n",
       "      <td>NaN</td>\n",
       "      <td>10+ years</td>\n",
       "      <td>RENT</td>\n",
       "      <td>24000.0</td>\n",
       "      <td>Verified</td>\n",
       "      <td>Dec-11</td>\n",
       "      <td>Fully Paid</td>\n",
       "      <td>https://lendingclub.com/browse/loanDetail.acti...</td>\n",
       "      <td>Borrower added on 12/22/11 &gt; I need to upgra...</td>\n",
       "      <td>credit_card</td>\n",
       "      <td>Computer</td>\n",
       "      <td>860xx</td>\n",
       "      <td>AZ</td>\n",
       "      <td>27.65</td>\n",
       "      <td>0</td>\n",
       "      <td>Jan-85</td>\n",
       "      <td>1</td>\n",
       "      <td>NaN</td>\n",
       "      <td>NaN</td>\n",
       "      <td>3</td>\n",
       "      <td>0</td>\n",
       "      <td>13648</td>\n",
       "      <td>83.70%</td>\n",
       "      <td>9</td>\n",
       "      <td>0.00</td>\n",
       "      <td>0.00</td>\n",
       "      <td>5863.155187</td>\n",
       "      <td>5833.84</td>\n",
       "      <td>5000.00</td>\n",
       "      <td>863.16</td>\n",
       "      <td>0.00</td>\n",
       "      <td>0.00</td>\n",
       "      <td>0.00</td>\n",
       "      <td>Jan-15</td>\n",
       "      <td>171.62</td>\n",
       "      <td>NaN</td>\n",
       "      <td>May-16</td>\n",
       "      <td>0.0</td>\n",
       "    </tr>\n",
       "    <tr>\n",
       "      <th>1</th>\n",
       "      <td>1077430</td>\n",
       "      <td>1314167</td>\n",
       "      <td>2500</td>\n",
       "      <td>2500</td>\n",
       "      <td>2500.0</td>\n",
       "      <td>60 months</td>\n",
       "      <td>15.27%</td>\n",
       "      <td>59.83</td>\n",
       "      <td>C</td>\n",
       "      <td>C4</td>\n",
       "      <td>Ryder</td>\n",
       "      <td>&lt; 1 year</td>\n",
       "      <td>RENT</td>\n",
       "      <td>30000.0</td>\n",
       "      <td>Source Verified</td>\n",
       "      <td>Dec-11</td>\n",
       "      <td>Charged Off</td>\n",
       "      <td>https://lendingclub.com/browse/loanDetail.acti...</td>\n",
       "      <td>Borrower added on 12/22/11 &gt; I plan to use t...</td>\n",
       "      <td>car</td>\n",
       "      <td>bike</td>\n",
       "      <td>309xx</td>\n",
       "      <td>GA</td>\n",
       "      <td>1.00</td>\n",
       "      <td>0</td>\n",
       "      <td>Apr-99</td>\n",
       "      <td>5</td>\n",
       "      <td>NaN</td>\n",
       "      <td>NaN</td>\n",
       "      <td>3</td>\n",
       "      <td>0</td>\n",
       "      <td>1687</td>\n",
       "      <td>9.40%</td>\n",
       "      <td>4</td>\n",
       "      <td>0.00</td>\n",
       "      <td>0.00</td>\n",
       "      <td>1008.710000</td>\n",
       "      <td>1008.71</td>\n",
       "      <td>456.46</td>\n",
       "      <td>435.17</td>\n",
       "      <td>0.00</td>\n",
       "      <td>117.08</td>\n",
       "      <td>1.11</td>\n",
       "      <td>Apr-13</td>\n",
       "      <td>119.66</td>\n",
       "      <td>NaN</td>\n",
       "      <td>Sep-13</td>\n",
       "      <td>0.0</td>\n",
       "    </tr>\n",
       "    <tr>\n",
       "      <th>2</th>\n",
       "      <td>1077175</td>\n",
       "      <td>1313524</td>\n",
       "      <td>2400</td>\n",
       "      <td>2400</td>\n",
       "      <td>2400.0</td>\n",
       "      <td>36 months</td>\n",
       "      <td>15.96%</td>\n",
       "      <td>84.33</td>\n",
       "      <td>C</td>\n",
       "      <td>C5</td>\n",
       "      <td>NaN</td>\n",
       "      <td>10+ years</td>\n",
       "      <td>RENT</td>\n",
       "      <td>12252.0</td>\n",
       "      <td>Not Verified</td>\n",
       "      <td>Dec-11</td>\n",
       "      <td>Fully Paid</td>\n",
       "      <td>https://lendingclub.com/browse/loanDetail.acti...</td>\n",
       "      <td>NaN</td>\n",
       "      <td>small_business</td>\n",
       "      <td>real estate business</td>\n",
       "      <td>606xx</td>\n",
       "      <td>IL</td>\n",
       "      <td>8.72</td>\n",
       "      <td>0</td>\n",
       "      <td>Nov-01</td>\n",
       "      <td>2</td>\n",
       "      <td>NaN</td>\n",
       "      <td>NaN</td>\n",
       "      <td>2</td>\n",
       "      <td>0</td>\n",
       "      <td>2956</td>\n",
       "      <td>98.50%</td>\n",
       "      <td>10</td>\n",
       "      <td>0.00</td>\n",
       "      <td>0.00</td>\n",
       "      <td>3005.666844</td>\n",
       "      <td>3005.67</td>\n",
       "      <td>2400.00</td>\n",
       "      <td>605.67</td>\n",
       "      <td>0.00</td>\n",
       "      <td>0.00</td>\n",
       "      <td>0.00</td>\n",
       "      <td>Jun-14</td>\n",
       "      <td>649.91</td>\n",
       "      <td>NaN</td>\n",
       "      <td>May-16</td>\n",
       "      <td>0.0</td>\n",
       "    </tr>\n",
       "    <tr>\n",
       "      <th>3</th>\n",
       "      <td>1076863</td>\n",
       "      <td>1277178</td>\n",
       "      <td>10000</td>\n",
       "      <td>10000</td>\n",
       "      <td>10000.0</td>\n",
       "      <td>36 months</td>\n",
       "      <td>13.49%</td>\n",
       "      <td>339.31</td>\n",
       "      <td>C</td>\n",
       "      <td>C1</td>\n",
       "      <td>AIR RESOURCES BOARD</td>\n",
       "      <td>10+ years</td>\n",
       "      <td>RENT</td>\n",
       "      <td>49200.0</td>\n",
       "      <td>Source Verified</td>\n",
       "      <td>Dec-11</td>\n",
       "      <td>Fully Paid</td>\n",
       "      <td>https://lendingclub.com/browse/loanDetail.acti...</td>\n",
       "      <td>Borrower added on 12/21/11 &gt; to pay for prop...</td>\n",
       "      <td>other</td>\n",
       "      <td>personel</td>\n",
       "      <td>917xx</td>\n",
       "      <td>CA</td>\n",
       "      <td>20.00</td>\n",
       "      <td>0</td>\n",
       "      <td>Feb-96</td>\n",
       "      <td>1</td>\n",
       "      <td>35.0</td>\n",
       "      <td>NaN</td>\n",
       "      <td>10</td>\n",
       "      <td>0</td>\n",
       "      <td>5598</td>\n",
       "      <td>21%</td>\n",
       "      <td>37</td>\n",
       "      <td>0.00</td>\n",
       "      <td>0.00</td>\n",
       "      <td>12231.890000</td>\n",
       "      <td>12231.89</td>\n",
       "      <td>10000.00</td>\n",
       "      <td>2214.92</td>\n",
       "      <td>16.97</td>\n",
       "      <td>0.00</td>\n",
       "      <td>0.00</td>\n",
       "      <td>Jan-15</td>\n",
       "      <td>357.48</td>\n",
       "      <td>NaN</td>\n",
       "      <td>Apr-16</td>\n",
       "      <td>0.0</td>\n",
       "    </tr>\n",
       "    <tr>\n",
       "      <th>4</th>\n",
       "      <td>1075358</td>\n",
       "      <td>1311748</td>\n",
       "      <td>3000</td>\n",
       "      <td>3000</td>\n",
       "      <td>3000.0</td>\n",
       "      <td>60 months</td>\n",
       "      <td>12.69%</td>\n",
       "      <td>67.79</td>\n",
       "      <td>B</td>\n",
       "      <td>B5</td>\n",
       "      <td>University Medical Group</td>\n",
       "      <td>1 year</td>\n",
       "      <td>RENT</td>\n",
       "      <td>80000.0</td>\n",
       "      <td>Source Verified</td>\n",
       "      <td>Dec-11</td>\n",
       "      <td>Current</td>\n",
       "      <td>https://lendingclub.com/browse/loanDetail.acti...</td>\n",
       "      <td>Borrower added on 12/21/11 &gt; I plan on combi...</td>\n",
       "      <td>other</td>\n",
       "      <td>Personal</td>\n",
       "      <td>972xx</td>\n",
       "      <td>OR</td>\n",
       "      <td>17.94</td>\n",
       "      <td>0</td>\n",
       "      <td>Jan-96</td>\n",
       "      <td>0</td>\n",
       "      <td>38.0</td>\n",
       "      <td>NaN</td>\n",
       "      <td>15</td>\n",
       "      <td>0</td>\n",
       "      <td>27783</td>\n",
       "      <td>53.90%</td>\n",
       "      <td>38</td>\n",
       "      <td>524.06</td>\n",
       "      <td>524.06</td>\n",
       "      <td>3513.330000</td>\n",
       "      <td>3513.33</td>\n",
       "      <td>2475.94</td>\n",
       "      <td>1037.39</td>\n",
       "      <td>0.00</td>\n",
       "      <td>0.00</td>\n",
       "      <td>0.00</td>\n",
       "      <td>May-16</td>\n",
       "      <td>67.79</td>\n",
       "      <td>Jun-16</td>\n",
       "      <td>May-16</td>\n",
       "      <td>0.0</td>\n",
       "    </tr>\n",
       "  </tbody>\n",
       "</table>\n",
       "</div>"
      ],
      "text/plain": [
       "        id  member_id  loan_amnt  funded_amnt  funded_amnt_inv        term  \\\n",
       "0  1077501    1296599       5000         5000           4975.0   36 months   \n",
       "1  1077430    1314167       2500         2500           2500.0   60 months   \n",
       "2  1077175    1313524       2400         2400           2400.0   36 months   \n",
       "3  1076863    1277178      10000        10000          10000.0   36 months   \n",
       "4  1075358    1311748       3000         3000           3000.0   60 months   \n",
       "\n",
       "  int_rate  installment grade sub_grade                 emp_title emp_length  \\\n",
       "0   10.65%       162.87     B        B2                       NaN  10+ years   \n",
       "1   15.27%        59.83     C        C4                     Ryder   < 1 year   \n",
       "2   15.96%        84.33     C        C5                       NaN  10+ years   \n",
       "3   13.49%       339.31     C        C1       AIR RESOURCES BOARD  10+ years   \n",
       "4   12.69%        67.79     B        B5  University Medical Group     1 year   \n",
       "\n",
       "  home_ownership  annual_inc verification_status issue_d  loan_status  \\\n",
       "0           RENT     24000.0            Verified  Dec-11   Fully Paid   \n",
       "1           RENT     30000.0     Source Verified  Dec-11  Charged Off   \n",
       "2           RENT     12252.0        Not Verified  Dec-11   Fully Paid   \n",
       "3           RENT     49200.0     Source Verified  Dec-11   Fully Paid   \n",
       "4           RENT     80000.0     Source Verified  Dec-11      Current   \n",
       "\n",
       "                                                 url  \\\n",
       "0  https://lendingclub.com/browse/loanDetail.acti...   \n",
       "1  https://lendingclub.com/browse/loanDetail.acti...   \n",
       "2  https://lendingclub.com/browse/loanDetail.acti...   \n",
       "3  https://lendingclub.com/browse/loanDetail.acti...   \n",
       "4  https://lendingclub.com/browse/loanDetail.acti...   \n",
       "\n",
       "                                                desc         purpose  \\\n",
       "0    Borrower added on 12/22/11 > I need to upgra...     credit_card   \n",
       "1    Borrower added on 12/22/11 > I plan to use t...             car   \n",
       "2                                                NaN  small_business   \n",
       "3    Borrower added on 12/21/11 > to pay for prop...           other   \n",
       "4    Borrower added on 12/21/11 > I plan on combi...           other   \n",
       "\n",
       "                  title zip_code addr_state    dti  delinq_2yrs  \\\n",
       "0              Computer    860xx         AZ  27.65            0   \n",
       "1                  bike    309xx         GA   1.00            0   \n",
       "2  real estate business    606xx         IL   8.72            0   \n",
       "3              personel    917xx         CA  20.00            0   \n",
       "4              Personal    972xx         OR  17.94            0   \n",
       "\n",
       "  earliest_cr_line  inq_last_6mths  mths_since_last_delinq  \\\n",
       "0           Jan-85               1                     NaN   \n",
       "1           Apr-99               5                     NaN   \n",
       "2           Nov-01               2                     NaN   \n",
       "3           Feb-96               1                    35.0   \n",
       "4           Jan-96               0                    38.0   \n",
       "\n",
       "   mths_since_last_record  open_acc  pub_rec  revol_bal revol_util  total_acc  \\\n",
       "0                     NaN         3        0      13648     83.70%          9   \n",
       "1                     NaN         3        0       1687      9.40%          4   \n",
       "2                     NaN         2        0       2956     98.50%         10   \n",
       "3                     NaN        10        0       5598        21%         37   \n",
       "4                     NaN        15        0      27783     53.90%         38   \n",
       "\n",
       "   out_prncp  out_prncp_inv   total_pymnt  total_pymnt_inv  total_rec_prncp  \\\n",
       "0       0.00           0.00   5863.155187          5833.84          5000.00   \n",
       "1       0.00           0.00   1008.710000          1008.71           456.46   \n",
       "2       0.00           0.00   3005.666844          3005.67          2400.00   \n",
       "3       0.00           0.00  12231.890000         12231.89         10000.00   \n",
       "4     524.06         524.06   3513.330000          3513.33          2475.94   \n",
       "\n",
       "   total_rec_int  total_rec_late_fee  recoveries  collection_recovery_fee  \\\n",
       "0         863.16                0.00        0.00                     0.00   \n",
       "1         435.17                0.00      117.08                     1.11   \n",
       "2         605.67                0.00        0.00                     0.00   \n",
       "3        2214.92               16.97        0.00                     0.00   \n",
       "4        1037.39                0.00        0.00                     0.00   \n",
       "\n",
       "  last_pymnt_d  last_pymnt_amnt next_pymnt_d last_credit_pull_d  \\\n",
       "0       Jan-15           171.62          NaN             May-16   \n",
       "1       Apr-13           119.66          NaN             Sep-13   \n",
       "2       Jun-14           649.91          NaN             May-16   \n",
       "3       Jan-15           357.48          NaN             Apr-16   \n",
       "4       May-16            67.79       Jun-16             May-16   \n",
       "\n",
       "   chargeoff_within_12_mths  \n",
       "0                       0.0  \n",
       "1                       0.0  \n",
       "2                       0.0  \n",
       "3                       0.0  \n",
       "4                       0.0  "
      ]
     },
     "execution_count": 7,
     "metadata": {},
     "output_type": "execute_result"
    }
   ],
   "source": [
    "loans_dataset.drop(['pymnt_plan', \"initial_list_status\",'collections_12_mths_ex_med','policy_code','acc_now_delinq', 'application_type', 'pub_rec_bankruptcies', 'tax_liens', 'delinq_amnt'], axis = 1, inplace = True)\n",
    "loans_dataset.head()\n"
   ]
  },
  {
   "cell_type": "code",
   "execution_count": 8,
   "id": "4ad54c4c",
   "metadata": {},
   "outputs": [
    {
     "data": {
      "text/plain": [
       "(39717, 48)"
      ]
     },
     "execution_count": 8,
     "metadata": {},
     "output_type": "execute_result"
    }
   ],
   "source": [
    "loans_dataset.shape"
   ]
  },
  {
   "cell_type": "markdown",
   "id": "7ba2394a",
   "metadata": {},
   "source": [
    "### Now we remove the data columns that hold no/minimal value in our analysis, \n",
    "\n",
    "##### - Certain columns contain data that is post approval of a loan, but as we are mainly focusing on the pre approval part, we remove those columns. \n",
    "1. delinq_2yrs \n",
    "2. revol_bal \n",
    "3. out_prncp \n",
    "4. total_pymnt \n",
    "5. total_rec_prncp\n",
    "6. total_rec_int \n",
    "7. total_rec_late_fee\n",
    "8. recoveries\n",
    "9. collection_recovery_fee\n",
    "10. last_pymnt_d\n",
    "11. last_pymnt_amnt\n",
    "12. next_pymnt_d \n",
    "14. chargeoff_within_12_mths\n",
    "15. mths_since_last_delinq \n",
    "16. mths_since_last_record\n",
    "17. out_prncp_inv\n",
    "18. total_pymnt_inv\n",
    "19. funded_amnt\n",
    "\n",
    "Also, we have certain columns that are having general information, that does not contribute to our analysis\n",
    "1. id\n",
    "2. member_id\n",
    "3. url\n",
    "4. title\n",
    "5. emp_title\n",
    "6. zip_code\n",
    "7. last_credit_pull_d\n",
    "8. addr_state\n",
    "9. desc"
   ]
  },
  {
   "cell_type": "code",
   "execution_count": 9,
   "id": "4b73eb86",
   "metadata": {},
   "outputs": [
    {
     "data": {
      "text/html": [
       "<div>\n",
       "<style scoped>\n",
       "    .dataframe tbody tr th:only-of-type {\n",
       "        vertical-align: middle;\n",
       "    }\n",
       "\n",
       "    .dataframe tbody tr th {\n",
       "        vertical-align: top;\n",
       "    }\n",
       "\n",
       "    .dataframe thead th {\n",
       "        text-align: right;\n",
       "    }\n",
       "</style>\n",
       "<table border=\"1\" class=\"dataframe\">\n",
       "  <thead>\n",
       "    <tr style=\"text-align: right;\">\n",
       "      <th></th>\n",
       "      <th>loan_amnt</th>\n",
       "      <th>funded_amnt_inv</th>\n",
       "      <th>term</th>\n",
       "      <th>int_rate</th>\n",
       "      <th>installment</th>\n",
       "      <th>grade</th>\n",
       "      <th>sub_grade</th>\n",
       "      <th>emp_length</th>\n",
       "      <th>home_ownership</th>\n",
       "      <th>annual_inc</th>\n",
       "      <th>verification_status</th>\n",
       "      <th>issue_d</th>\n",
       "      <th>loan_status</th>\n",
       "      <th>purpose</th>\n",
       "      <th>dti</th>\n",
       "      <th>earliest_cr_line</th>\n",
       "      <th>inq_last_6mths</th>\n",
       "      <th>open_acc</th>\n",
       "      <th>pub_rec</th>\n",
       "      <th>revol_util</th>\n",
       "      <th>total_acc</th>\n",
       "    </tr>\n",
       "  </thead>\n",
       "  <tbody>\n",
       "    <tr>\n",
       "      <th>0</th>\n",
       "      <td>5000</td>\n",
       "      <td>4975.0</td>\n",
       "      <td>36 months</td>\n",
       "      <td>10.65%</td>\n",
       "      <td>162.87</td>\n",
       "      <td>B</td>\n",
       "      <td>B2</td>\n",
       "      <td>10+ years</td>\n",
       "      <td>RENT</td>\n",
       "      <td>24000.0</td>\n",
       "      <td>Verified</td>\n",
       "      <td>Dec-11</td>\n",
       "      <td>Fully Paid</td>\n",
       "      <td>credit_card</td>\n",
       "      <td>27.65</td>\n",
       "      <td>Jan-85</td>\n",
       "      <td>1</td>\n",
       "      <td>3</td>\n",
       "      <td>0</td>\n",
       "      <td>83.70%</td>\n",
       "      <td>9</td>\n",
       "    </tr>\n",
       "    <tr>\n",
       "      <th>1</th>\n",
       "      <td>2500</td>\n",
       "      <td>2500.0</td>\n",
       "      <td>60 months</td>\n",
       "      <td>15.27%</td>\n",
       "      <td>59.83</td>\n",
       "      <td>C</td>\n",
       "      <td>C4</td>\n",
       "      <td>&lt; 1 year</td>\n",
       "      <td>RENT</td>\n",
       "      <td>30000.0</td>\n",
       "      <td>Source Verified</td>\n",
       "      <td>Dec-11</td>\n",
       "      <td>Charged Off</td>\n",
       "      <td>car</td>\n",
       "      <td>1.00</td>\n",
       "      <td>Apr-99</td>\n",
       "      <td>5</td>\n",
       "      <td>3</td>\n",
       "      <td>0</td>\n",
       "      <td>9.40%</td>\n",
       "      <td>4</td>\n",
       "    </tr>\n",
       "    <tr>\n",
       "      <th>2</th>\n",
       "      <td>2400</td>\n",
       "      <td>2400.0</td>\n",
       "      <td>36 months</td>\n",
       "      <td>15.96%</td>\n",
       "      <td>84.33</td>\n",
       "      <td>C</td>\n",
       "      <td>C5</td>\n",
       "      <td>10+ years</td>\n",
       "      <td>RENT</td>\n",
       "      <td>12252.0</td>\n",
       "      <td>Not Verified</td>\n",
       "      <td>Dec-11</td>\n",
       "      <td>Fully Paid</td>\n",
       "      <td>small_business</td>\n",
       "      <td>8.72</td>\n",
       "      <td>Nov-01</td>\n",
       "      <td>2</td>\n",
       "      <td>2</td>\n",
       "      <td>0</td>\n",
       "      <td>98.50%</td>\n",
       "      <td>10</td>\n",
       "    </tr>\n",
       "    <tr>\n",
       "      <th>3</th>\n",
       "      <td>10000</td>\n",
       "      <td>10000.0</td>\n",
       "      <td>36 months</td>\n",
       "      <td>13.49%</td>\n",
       "      <td>339.31</td>\n",
       "      <td>C</td>\n",
       "      <td>C1</td>\n",
       "      <td>10+ years</td>\n",
       "      <td>RENT</td>\n",
       "      <td>49200.0</td>\n",
       "      <td>Source Verified</td>\n",
       "      <td>Dec-11</td>\n",
       "      <td>Fully Paid</td>\n",
       "      <td>other</td>\n",
       "      <td>20.00</td>\n",
       "      <td>Feb-96</td>\n",
       "      <td>1</td>\n",
       "      <td>10</td>\n",
       "      <td>0</td>\n",
       "      <td>21%</td>\n",
       "      <td>37</td>\n",
       "    </tr>\n",
       "    <tr>\n",
       "      <th>4</th>\n",
       "      <td>3000</td>\n",
       "      <td>3000.0</td>\n",
       "      <td>60 months</td>\n",
       "      <td>12.69%</td>\n",
       "      <td>67.79</td>\n",
       "      <td>B</td>\n",
       "      <td>B5</td>\n",
       "      <td>1 year</td>\n",
       "      <td>RENT</td>\n",
       "      <td>80000.0</td>\n",
       "      <td>Source Verified</td>\n",
       "      <td>Dec-11</td>\n",
       "      <td>Current</td>\n",
       "      <td>other</td>\n",
       "      <td>17.94</td>\n",
       "      <td>Jan-96</td>\n",
       "      <td>0</td>\n",
       "      <td>15</td>\n",
       "      <td>0</td>\n",
       "      <td>53.90%</td>\n",
       "      <td>38</td>\n",
       "    </tr>\n",
       "  </tbody>\n",
       "</table>\n",
       "</div>"
      ],
      "text/plain": [
       "   loan_amnt  funded_amnt_inv        term int_rate  installment grade  \\\n",
       "0       5000           4975.0   36 months   10.65%       162.87     B   \n",
       "1       2500           2500.0   60 months   15.27%        59.83     C   \n",
       "2       2400           2400.0   36 months   15.96%        84.33     C   \n",
       "3      10000          10000.0   36 months   13.49%       339.31     C   \n",
       "4       3000           3000.0   60 months   12.69%        67.79     B   \n",
       "\n",
       "  sub_grade emp_length home_ownership  annual_inc verification_status issue_d  \\\n",
       "0        B2  10+ years           RENT     24000.0            Verified  Dec-11   \n",
       "1        C4   < 1 year           RENT     30000.0     Source Verified  Dec-11   \n",
       "2        C5  10+ years           RENT     12252.0        Not Verified  Dec-11   \n",
       "3        C1  10+ years           RENT     49200.0     Source Verified  Dec-11   \n",
       "4        B5     1 year           RENT     80000.0     Source Verified  Dec-11   \n",
       "\n",
       "   loan_status         purpose    dti earliest_cr_line  inq_last_6mths  \\\n",
       "0   Fully Paid     credit_card  27.65           Jan-85               1   \n",
       "1  Charged Off             car   1.00           Apr-99               5   \n",
       "2   Fully Paid  small_business   8.72           Nov-01               2   \n",
       "3   Fully Paid           other  20.00           Feb-96               1   \n",
       "4      Current           other  17.94           Jan-96               0   \n",
       "\n",
       "   open_acc  pub_rec revol_util  total_acc  \n",
       "0         3        0     83.70%          9  \n",
       "1         3        0      9.40%          4  \n",
       "2         2        0     98.50%         10  \n",
       "3        10        0        21%         37  \n",
       "4        15        0     53.90%         38  "
      ]
     },
     "execution_count": 9,
     "metadata": {},
     "output_type": "execute_result"
    }
   ],
   "source": [
    "loans_dataset.drop([\"id\", \"member_id\", \"url\", \"title\", \"emp_title\", \"zip_code\", \"last_credit_pull_d\", \"addr_state\",\"desc\",\"out_prncp_inv\",\"total_pymnt_inv\",\"funded_amnt\", \"delinq_2yrs\", \"revol_bal\", \"out_prncp\", \"total_pymnt\", \"total_rec_prncp\", \"total_rec_int\", \"total_rec_late_fee\", \"recoveries\", \"collection_recovery_fee\", \"last_pymnt_d\", \"last_pymnt_amnt\", \"next_pymnt_d\" , \"chargeoff_within_12_mths\", \"mths_since_last_delinq\", \"mths_since_last_record\"], axis = 1, inplace = True)\n",
    "loans_dataset.head()"
   ]
  },
  {
   "cell_type": "code",
   "execution_count": 10,
   "id": "da6622b3",
   "metadata": {},
   "outputs": [
    {
     "data": {
      "text/plain": [
       "(39717, 21)"
      ]
     },
     "execution_count": 10,
     "metadata": {},
     "output_type": "execute_result"
    }
   ],
   "source": [
    "loans_dataset.shape"
   ]
  },
  {
   "cell_type": "markdown",
   "id": "7989cf36",
   "metadata": {},
   "source": [
    "### Data cleaning\n",
    "#### removal of % symbol from int_rate & revol_util column so as to support calculations\n"
   ]
  },
  {
   "cell_type": "code",
   "execution_count": 11,
   "id": "5c5331f6",
   "metadata": {},
   "outputs": [],
   "source": [
    "loans_dataset['int_rate'] = loans_dataset['int_rate'].str.rstrip('%')\n",
    "loans_dataset['revol_util'] = loans_dataset['revol_util'].str.rstrip('%')"
   ]
  },
  {
   "cell_type": "code",
   "execution_count": 12,
   "id": "e5f1de1e",
   "metadata": {},
   "outputs": [
    {
     "data": {
      "text/html": [
       "<div>\n",
       "<style scoped>\n",
       "    .dataframe tbody tr th:only-of-type {\n",
       "        vertical-align: middle;\n",
       "    }\n",
       "\n",
       "    .dataframe tbody tr th {\n",
       "        vertical-align: top;\n",
       "    }\n",
       "\n",
       "    .dataframe thead th {\n",
       "        text-align: right;\n",
       "    }\n",
       "</style>\n",
       "<table border=\"1\" class=\"dataframe\">\n",
       "  <thead>\n",
       "    <tr style=\"text-align: right;\">\n",
       "      <th></th>\n",
       "      <th>loan_amnt</th>\n",
       "      <th>funded_amnt_inv</th>\n",
       "      <th>term</th>\n",
       "      <th>int_rate</th>\n",
       "      <th>installment</th>\n",
       "      <th>grade</th>\n",
       "      <th>sub_grade</th>\n",
       "      <th>emp_length</th>\n",
       "      <th>home_ownership</th>\n",
       "      <th>annual_inc</th>\n",
       "      <th>verification_status</th>\n",
       "      <th>issue_d</th>\n",
       "      <th>loan_status</th>\n",
       "      <th>purpose</th>\n",
       "      <th>dti</th>\n",
       "      <th>earliest_cr_line</th>\n",
       "      <th>inq_last_6mths</th>\n",
       "      <th>open_acc</th>\n",
       "      <th>pub_rec</th>\n",
       "      <th>revol_util</th>\n",
       "      <th>total_acc</th>\n",
       "    </tr>\n",
       "  </thead>\n",
       "  <tbody>\n",
       "    <tr>\n",
       "      <th>0</th>\n",
       "      <td>5000</td>\n",
       "      <td>4975.0</td>\n",
       "      <td>36 months</td>\n",
       "      <td>10.65</td>\n",
       "      <td>162.87</td>\n",
       "      <td>B</td>\n",
       "      <td>B2</td>\n",
       "      <td>10+ years</td>\n",
       "      <td>RENT</td>\n",
       "      <td>24000.0</td>\n",
       "      <td>Verified</td>\n",
       "      <td>Dec-11</td>\n",
       "      <td>Fully Paid</td>\n",
       "      <td>credit_card</td>\n",
       "      <td>27.65</td>\n",
       "      <td>Jan-85</td>\n",
       "      <td>1</td>\n",
       "      <td>3</td>\n",
       "      <td>0</td>\n",
       "      <td>83.70</td>\n",
       "      <td>9</td>\n",
       "    </tr>\n",
       "    <tr>\n",
       "      <th>1</th>\n",
       "      <td>2500</td>\n",
       "      <td>2500.0</td>\n",
       "      <td>60 months</td>\n",
       "      <td>15.27</td>\n",
       "      <td>59.83</td>\n",
       "      <td>C</td>\n",
       "      <td>C4</td>\n",
       "      <td>&lt; 1 year</td>\n",
       "      <td>RENT</td>\n",
       "      <td>30000.0</td>\n",
       "      <td>Source Verified</td>\n",
       "      <td>Dec-11</td>\n",
       "      <td>Charged Off</td>\n",
       "      <td>car</td>\n",
       "      <td>1.00</td>\n",
       "      <td>Apr-99</td>\n",
       "      <td>5</td>\n",
       "      <td>3</td>\n",
       "      <td>0</td>\n",
       "      <td>9.40</td>\n",
       "      <td>4</td>\n",
       "    </tr>\n",
       "    <tr>\n",
       "      <th>2</th>\n",
       "      <td>2400</td>\n",
       "      <td>2400.0</td>\n",
       "      <td>36 months</td>\n",
       "      <td>15.96</td>\n",
       "      <td>84.33</td>\n",
       "      <td>C</td>\n",
       "      <td>C5</td>\n",
       "      <td>10+ years</td>\n",
       "      <td>RENT</td>\n",
       "      <td>12252.0</td>\n",
       "      <td>Not Verified</td>\n",
       "      <td>Dec-11</td>\n",
       "      <td>Fully Paid</td>\n",
       "      <td>small_business</td>\n",
       "      <td>8.72</td>\n",
       "      <td>Nov-01</td>\n",
       "      <td>2</td>\n",
       "      <td>2</td>\n",
       "      <td>0</td>\n",
       "      <td>98.50</td>\n",
       "      <td>10</td>\n",
       "    </tr>\n",
       "    <tr>\n",
       "      <th>3</th>\n",
       "      <td>10000</td>\n",
       "      <td>10000.0</td>\n",
       "      <td>36 months</td>\n",
       "      <td>13.49</td>\n",
       "      <td>339.31</td>\n",
       "      <td>C</td>\n",
       "      <td>C1</td>\n",
       "      <td>10+ years</td>\n",
       "      <td>RENT</td>\n",
       "      <td>49200.0</td>\n",
       "      <td>Source Verified</td>\n",
       "      <td>Dec-11</td>\n",
       "      <td>Fully Paid</td>\n",
       "      <td>other</td>\n",
       "      <td>20.00</td>\n",
       "      <td>Feb-96</td>\n",
       "      <td>1</td>\n",
       "      <td>10</td>\n",
       "      <td>0</td>\n",
       "      <td>21</td>\n",
       "      <td>37</td>\n",
       "    </tr>\n",
       "    <tr>\n",
       "      <th>4</th>\n",
       "      <td>3000</td>\n",
       "      <td>3000.0</td>\n",
       "      <td>60 months</td>\n",
       "      <td>12.69</td>\n",
       "      <td>67.79</td>\n",
       "      <td>B</td>\n",
       "      <td>B5</td>\n",
       "      <td>1 year</td>\n",
       "      <td>RENT</td>\n",
       "      <td>80000.0</td>\n",
       "      <td>Source Verified</td>\n",
       "      <td>Dec-11</td>\n",
       "      <td>Current</td>\n",
       "      <td>other</td>\n",
       "      <td>17.94</td>\n",
       "      <td>Jan-96</td>\n",
       "      <td>0</td>\n",
       "      <td>15</td>\n",
       "      <td>0</td>\n",
       "      <td>53.90</td>\n",
       "      <td>38</td>\n",
       "    </tr>\n",
       "  </tbody>\n",
       "</table>\n",
       "</div>"
      ],
      "text/plain": [
       "   loan_amnt  funded_amnt_inv        term int_rate  installment grade  \\\n",
       "0       5000           4975.0   36 months    10.65       162.87     B   \n",
       "1       2500           2500.0   60 months    15.27        59.83     C   \n",
       "2       2400           2400.0   36 months    15.96        84.33     C   \n",
       "3      10000          10000.0   36 months    13.49       339.31     C   \n",
       "4       3000           3000.0   60 months    12.69        67.79     B   \n",
       "\n",
       "  sub_grade emp_length home_ownership  annual_inc verification_status issue_d  \\\n",
       "0        B2  10+ years           RENT     24000.0            Verified  Dec-11   \n",
       "1        C4   < 1 year           RENT     30000.0     Source Verified  Dec-11   \n",
       "2        C5  10+ years           RENT     12252.0        Not Verified  Dec-11   \n",
       "3        C1  10+ years           RENT     49200.0     Source Verified  Dec-11   \n",
       "4        B5     1 year           RENT     80000.0     Source Verified  Dec-11   \n",
       "\n",
       "   loan_status         purpose    dti earliest_cr_line  inq_last_6mths  \\\n",
       "0   Fully Paid     credit_card  27.65           Jan-85               1   \n",
       "1  Charged Off             car   1.00           Apr-99               5   \n",
       "2   Fully Paid  small_business   8.72           Nov-01               2   \n",
       "3   Fully Paid           other  20.00           Feb-96               1   \n",
       "4      Current           other  17.94           Jan-96               0   \n",
       "\n",
       "   open_acc  pub_rec revol_util  total_acc  \n",
       "0         3        0      83.70          9  \n",
       "1         3        0       9.40          4  \n",
       "2         2        0      98.50         10  \n",
       "3        10        0         21         37  \n",
       "4        15        0      53.90         38  "
      ]
     },
     "execution_count": 12,
     "metadata": {},
     "output_type": "execute_result"
    }
   ],
   "source": [
    "loans_dataset.head()"
   ]
  },
  {
   "cell_type": "code",
   "execution_count": 13,
   "id": "c7a2d2cd",
   "metadata": {},
   "outputs": [
    {
     "data": {
      "text/plain": [
       "(39717, 21)"
      ]
     },
     "execution_count": 13,
     "metadata": {},
     "output_type": "execute_result"
    }
   ],
   "source": [
    "loans_dataset.shape"
   ]
  },
  {
   "cell_type": "markdown",
   "id": "3c8aee3d",
   "metadata": {},
   "source": [
    "#### As we are dealing with loan approval process, we can clearly remove the ones with loan_staus as 'Current' as we are analysing who are likely to default"
   ]
  },
  {
   "cell_type": "code",
   "execution_count": 14,
   "id": "8f735223",
   "metadata": {},
   "outputs": [],
   "source": [
    "loans_dataset = loans_dataset[loans_dataset.loan_status != 'Current']"
   ]
  },
  {
   "cell_type": "code",
   "execution_count": 15,
   "id": "04c6196d",
   "metadata": {},
   "outputs": [
    {
     "data": {
      "text/html": [
       "<div>\n",
       "<style scoped>\n",
       "    .dataframe tbody tr th:only-of-type {\n",
       "        vertical-align: middle;\n",
       "    }\n",
       "\n",
       "    .dataframe tbody tr th {\n",
       "        vertical-align: top;\n",
       "    }\n",
       "\n",
       "    .dataframe thead th {\n",
       "        text-align: right;\n",
       "    }\n",
       "</style>\n",
       "<table border=\"1\" class=\"dataframe\">\n",
       "  <thead>\n",
       "    <tr style=\"text-align: right;\">\n",
       "      <th></th>\n",
       "      <th>loan_amnt</th>\n",
       "      <th>funded_amnt_inv</th>\n",
       "      <th>term</th>\n",
       "      <th>int_rate</th>\n",
       "      <th>installment</th>\n",
       "      <th>grade</th>\n",
       "      <th>sub_grade</th>\n",
       "      <th>emp_length</th>\n",
       "      <th>home_ownership</th>\n",
       "      <th>annual_inc</th>\n",
       "      <th>verification_status</th>\n",
       "      <th>issue_d</th>\n",
       "      <th>loan_status</th>\n",
       "      <th>purpose</th>\n",
       "      <th>dti</th>\n",
       "      <th>earliest_cr_line</th>\n",
       "      <th>inq_last_6mths</th>\n",
       "      <th>open_acc</th>\n",
       "      <th>pub_rec</th>\n",
       "      <th>revol_util</th>\n",
       "      <th>total_acc</th>\n",
       "    </tr>\n",
       "  </thead>\n",
       "  <tbody>\n",
       "    <tr>\n",
       "      <th>0</th>\n",
       "      <td>5000</td>\n",
       "      <td>4975.0</td>\n",
       "      <td>36 months</td>\n",
       "      <td>10.65</td>\n",
       "      <td>162.87</td>\n",
       "      <td>B</td>\n",
       "      <td>B2</td>\n",
       "      <td>10+ years</td>\n",
       "      <td>RENT</td>\n",
       "      <td>24000.0</td>\n",
       "      <td>Verified</td>\n",
       "      <td>Dec-11</td>\n",
       "      <td>Fully Paid</td>\n",
       "      <td>credit_card</td>\n",
       "      <td>27.65</td>\n",
       "      <td>Jan-85</td>\n",
       "      <td>1</td>\n",
       "      <td>3</td>\n",
       "      <td>0</td>\n",
       "      <td>83.70</td>\n",
       "      <td>9</td>\n",
       "    </tr>\n",
       "    <tr>\n",
       "      <th>1</th>\n",
       "      <td>2500</td>\n",
       "      <td>2500.0</td>\n",
       "      <td>60 months</td>\n",
       "      <td>15.27</td>\n",
       "      <td>59.83</td>\n",
       "      <td>C</td>\n",
       "      <td>C4</td>\n",
       "      <td>&lt; 1 year</td>\n",
       "      <td>RENT</td>\n",
       "      <td>30000.0</td>\n",
       "      <td>Source Verified</td>\n",
       "      <td>Dec-11</td>\n",
       "      <td>Charged Off</td>\n",
       "      <td>car</td>\n",
       "      <td>1.00</td>\n",
       "      <td>Apr-99</td>\n",
       "      <td>5</td>\n",
       "      <td>3</td>\n",
       "      <td>0</td>\n",
       "      <td>9.40</td>\n",
       "      <td>4</td>\n",
       "    </tr>\n",
       "    <tr>\n",
       "      <th>2</th>\n",
       "      <td>2400</td>\n",
       "      <td>2400.0</td>\n",
       "      <td>36 months</td>\n",
       "      <td>15.96</td>\n",
       "      <td>84.33</td>\n",
       "      <td>C</td>\n",
       "      <td>C5</td>\n",
       "      <td>10+ years</td>\n",
       "      <td>RENT</td>\n",
       "      <td>12252.0</td>\n",
       "      <td>Not Verified</td>\n",
       "      <td>Dec-11</td>\n",
       "      <td>Fully Paid</td>\n",
       "      <td>small_business</td>\n",
       "      <td>8.72</td>\n",
       "      <td>Nov-01</td>\n",
       "      <td>2</td>\n",
       "      <td>2</td>\n",
       "      <td>0</td>\n",
       "      <td>98.50</td>\n",
       "      <td>10</td>\n",
       "    </tr>\n",
       "    <tr>\n",
       "      <th>3</th>\n",
       "      <td>10000</td>\n",
       "      <td>10000.0</td>\n",
       "      <td>36 months</td>\n",
       "      <td>13.49</td>\n",
       "      <td>339.31</td>\n",
       "      <td>C</td>\n",
       "      <td>C1</td>\n",
       "      <td>10+ years</td>\n",
       "      <td>RENT</td>\n",
       "      <td>49200.0</td>\n",
       "      <td>Source Verified</td>\n",
       "      <td>Dec-11</td>\n",
       "      <td>Fully Paid</td>\n",
       "      <td>other</td>\n",
       "      <td>20.00</td>\n",
       "      <td>Feb-96</td>\n",
       "      <td>1</td>\n",
       "      <td>10</td>\n",
       "      <td>0</td>\n",
       "      <td>21</td>\n",
       "      <td>37</td>\n",
       "    </tr>\n",
       "    <tr>\n",
       "      <th>5</th>\n",
       "      <td>5000</td>\n",
       "      <td>5000.0</td>\n",
       "      <td>36 months</td>\n",
       "      <td>7.90</td>\n",
       "      <td>156.46</td>\n",
       "      <td>A</td>\n",
       "      <td>A4</td>\n",
       "      <td>3 years</td>\n",
       "      <td>RENT</td>\n",
       "      <td>36000.0</td>\n",
       "      <td>Source Verified</td>\n",
       "      <td>Dec-11</td>\n",
       "      <td>Fully Paid</td>\n",
       "      <td>wedding</td>\n",
       "      <td>11.20</td>\n",
       "      <td>Nov-04</td>\n",
       "      <td>3</td>\n",
       "      <td>9</td>\n",
       "      <td>0</td>\n",
       "      <td>28.30</td>\n",
       "      <td>12</td>\n",
       "    </tr>\n",
       "  </tbody>\n",
       "</table>\n",
       "</div>"
      ],
      "text/plain": [
       "   loan_amnt  funded_amnt_inv        term int_rate  installment grade  \\\n",
       "0       5000           4975.0   36 months    10.65       162.87     B   \n",
       "1       2500           2500.0   60 months    15.27        59.83     C   \n",
       "2       2400           2400.0   36 months    15.96        84.33     C   \n",
       "3      10000          10000.0   36 months    13.49       339.31     C   \n",
       "5       5000           5000.0   36 months     7.90       156.46     A   \n",
       "\n",
       "  sub_grade emp_length home_ownership  annual_inc verification_status issue_d  \\\n",
       "0        B2  10+ years           RENT     24000.0            Verified  Dec-11   \n",
       "1        C4   < 1 year           RENT     30000.0     Source Verified  Dec-11   \n",
       "2        C5  10+ years           RENT     12252.0        Not Verified  Dec-11   \n",
       "3        C1  10+ years           RENT     49200.0     Source Verified  Dec-11   \n",
       "5        A4    3 years           RENT     36000.0     Source Verified  Dec-11   \n",
       "\n",
       "   loan_status         purpose    dti earliest_cr_line  inq_last_6mths  \\\n",
       "0   Fully Paid     credit_card  27.65           Jan-85               1   \n",
       "1  Charged Off             car   1.00           Apr-99               5   \n",
       "2   Fully Paid  small_business   8.72           Nov-01               2   \n",
       "3   Fully Paid           other  20.00           Feb-96               1   \n",
       "5   Fully Paid         wedding  11.20           Nov-04               3   \n",
       "\n",
       "   open_acc  pub_rec revol_util  total_acc  \n",
       "0         3        0      83.70          9  \n",
       "1         3        0       9.40          4  \n",
       "2         2        0      98.50         10  \n",
       "3        10        0         21         37  \n",
       "5         9        0      28.30         12  "
      ]
     },
     "execution_count": 15,
     "metadata": {},
     "output_type": "execute_result"
    }
   ],
   "source": [
    "loans_dataset.head()"
   ]
  },
  {
   "cell_type": "code",
   "execution_count": 16,
   "id": "8cb6559c",
   "metadata": {},
   "outputs": [
    {
     "data": {
      "text/plain": [
       "(38577, 21)"
      ]
     },
     "execution_count": 16,
     "metadata": {},
     "output_type": "execute_result"
    }
   ],
   "source": [
    "loans_dataset.shape"
   ]
  },
  {
   "cell_type": "markdown",
   "id": "9f82534f",
   "metadata": {},
   "source": [
    "#### Now we should be left with only Fully paid and charged off as the unique values in loan_status. \n",
    "Let us see the unique values of loan_status"
   ]
  },
  {
   "cell_type": "code",
   "execution_count": 17,
   "id": "2f85cefe",
   "metadata": {},
   "outputs": [
    {
     "data": {
      "text/plain": [
       "array(['Fully Paid', 'Charged Off'], dtype=object)"
      ]
     },
     "execution_count": 17,
     "metadata": {},
     "output_type": "execute_result"
    }
   ],
   "source": [
    "loans_dataset.loan_status.unique()"
   ]
  },
  {
   "cell_type": "markdown",
   "id": "18161600",
   "metadata": {},
   "source": [
    "#### Let us now see what kind of data we are left with"
   ]
  },
  {
   "cell_type": "code",
   "execution_count": null,
   "id": "c60c7241",
   "metadata": {},
   "outputs": [],
   "source": []
  },
  {
   "cell_type": "code",
   "execution_count": 18,
   "id": "5552c96c",
   "metadata": {},
   "outputs": [
    {
     "name": "stdout",
     "output_type": "stream",
     "text": [
      "<class 'pandas.core.frame.DataFrame'>\n",
      "Int64Index: 38577 entries, 0 to 39716\n",
      "Data columns (total 21 columns):\n",
      " #   Column               Non-Null Count  Dtype  \n",
      "---  ------               --------------  -----  \n",
      " 0   loan_amnt            38577 non-null  int64  \n",
      " 1   funded_amnt_inv      38577 non-null  float64\n",
      " 2   term                 38577 non-null  object \n",
      " 3   int_rate             38577 non-null  object \n",
      " 4   installment          38577 non-null  float64\n",
      " 5   grade                38577 non-null  object \n",
      " 6   sub_grade            38577 non-null  object \n",
      " 7   emp_length           37544 non-null  object \n",
      " 8   home_ownership       38577 non-null  object \n",
      " 9   annual_inc           38577 non-null  float64\n",
      " 10  verification_status  38577 non-null  object \n",
      " 11  issue_d              38577 non-null  object \n",
      " 12  loan_status          38577 non-null  object \n",
      " 13  purpose              38577 non-null  object \n",
      " 14  dti                  38577 non-null  float64\n",
      " 15  earliest_cr_line     38577 non-null  object \n",
      " 16  inq_last_6mths       38577 non-null  int64  \n",
      " 17  open_acc             38577 non-null  int64  \n",
      " 18  pub_rec              38577 non-null  int64  \n",
      " 19  revol_util           38527 non-null  object \n",
      " 20  total_acc            38577 non-null  int64  \n",
      "dtypes: float64(4), int64(5), object(12)\n",
      "memory usage: 6.5+ MB\n"
     ]
    }
   ],
   "source": [
    "loans_dataset.info()"
   ]
  },
  {
   "cell_type": "markdown",
   "id": "1deea992",
   "metadata": {},
   "source": [
    "#### We see that 38577 is the total number of data entries we have, but emp_length and revol_util have some missing values 37544 and 38527 respectively\n",
    "So let us now check the mode and value_counts of these two columns to see how we can impute the empty missing values"
   ]
  },
  {
   "cell_type": "code",
   "execution_count": 19,
   "id": "1ba3b354",
   "metadata": {},
   "outputs": [
    {
     "data": {
      "text/plain": [
       "0    10+ years\n",
       "dtype: object"
      ]
     },
     "execution_count": 19,
     "metadata": {},
     "output_type": "execute_result"
    }
   ],
   "source": [
    "loans_dataset.emp_length.mode()"
   ]
  },
  {
   "cell_type": "code",
   "execution_count": 20,
   "id": "77c12257",
   "metadata": {},
   "outputs": [
    {
     "data": {
      "text/plain": [
       "10+ years    8488\n",
       "< 1 year     4508\n",
       "2 years      4291\n",
       "3 years      4012\n",
       "4 years      3342\n",
       "5 years      3194\n",
       "1 year       3169\n",
       "6 years      2168\n",
       "7 years      1711\n",
       "8 years      1435\n",
       "9 years      1226\n",
       "Name: emp_length, dtype: int64"
      ]
     },
     "execution_count": 20,
     "metadata": {},
     "output_type": "execute_result"
    }
   ],
   "source": [
    "loans_dataset.emp_length.value_counts()"
   ]
  },
  {
   "cell_type": "markdown",
   "id": "b5249af6",
   "metadata": {},
   "source": [
    "From the above, we can see that the 10+ years has the highest occourance in the dataset, and as the missing values are less, we can impute the missing values as the mode of the column"
   ]
  },
  {
   "cell_type": "code",
   "execution_count": 21,
   "id": "b99c5760",
   "metadata": {},
   "outputs": [],
   "source": [
    "loans_dataset.emp_length.fillna(loans_dataset.emp_length.mode()[0], inplace = True)"
   ]
  },
  {
   "cell_type": "markdown",
   "id": "a35652cb",
   "metadata": {},
   "source": [
    "Now lets cross check if the values are imputed or not and verify if there are still any missing values present"
   ]
  },
  {
   "cell_type": "code",
   "execution_count": 22,
   "id": "e6235812",
   "metadata": {},
   "outputs": [
    {
     "data": {
      "text/plain": [
       "0"
      ]
     },
     "execution_count": 22,
     "metadata": {},
     "output_type": "execute_result"
    }
   ],
   "source": [
    "loans_dataset.emp_length.isna().sum()"
   ]
  },
  {
   "cell_type": "markdown",
   "id": "be3caa5d",
   "metadata": {},
   "source": [
    "We see that the missing values have been taken care of for now and have been imputed.\n",
    "Next we do the similar thing with revol_util. But in this case, we will drop these missing values"
   ]
  },
  {
   "cell_type": "code",
   "execution_count": 23,
   "id": "9871572f",
   "metadata": {},
   "outputs": [],
   "source": [
    "loans_dataset.dropna(axis = 0, subset = ['revol_util'] , inplace = True)"
   ]
  },
  {
   "cell_type": "markdown",
   "id": "09046266",
   "metadata": {},
   "source": [
    "Now lets confirm if the missing values have been dropped"
   ]
  },
  {
   "cell_type": "code",
   "execution_count": 24,
   "id": "cf4ac17e",
   "metadata": {},
   "outputs": [
    {
     "data": {
      "text/plain": [
       "0"
      ]
     },
     "execution_count": 24,
     "metadata": {},
     "output_type": "execute_result"
    }
   ],
   "source": [
    "loans_dataset.revol_util.isna().sum()"
   ]
  },
  {
   "cell_type": "markdown",
   "id": "861934ae",
   "metadata": {},
   "source": [
    "This 0 gives us an indication that the missing values have been dropped. Now lets see the shape of the dataset at its current juncture"
   ]
  },
  {
   "cell_type": "code",
   "execution_count": 25,
   "id": "b1b3a96d",
   "metadata": {},
   "outputs": [
    {
     "data": {
      "text/plain": [
       "(38527, 21)"
      ]
     },
     "execution_count": 25,
     "metadata": {},
     "output_type": "execute_result"
    }
   ],
   "source": [
    "loans_dataset.shape"
   ]
  },
  {
   "cell_type": "markdown",
   "id": "5cd144b8",
   "metadata": {},
   "source": [
    "Let us see the distribution of data in the emp_length column"
   ]
  },
  {
   "cell_type": "code",
   "execution_count": 26,
   "id": "aac2aebf",
   "metadata": {},
   "outputs": [
    {
     "data": {
      "text/plain": [
       "10+ years    9517\n",
       "< 1 year     4496\n",
       "2 years      4286\n",
       "3 years      4008\n",
       "4 years      3335\n",
       "5 years      3190\n",
       "1 year       3163\n",
       "6 years      2165\n",
       "7 years      1708\n",
       "8 years      1433\n",
       "9 years      1226\n",
       "Name: emp_length, dtype: int64"
      ]
     },
     "execution_count": 26,
     "metadata": {},
     "output_type": "execute_result"
    }
   ],
   "source": [
    "loans_dataset.emp_length.value_counts()"
   ]
  },
  {
   "cell_type": "markdown",
   "id": "36c95f94",
   "metadata": {},
   "source": [
    "We see that the data is continuous, so lets assume that values < 1 year to be 1 year and values 10+ years to be 10 years and also remove these years from the dataset to use it for further calculations. Also lets convert these values to numeric"
   ]
  },
  {
   "cell_type": "code",
   "execution_count": 27,
   "id": "031db2ff",
   "metadata": {},
   "outputs": [],
   "source": [
    "loans_dataset.emp_length = pd.to_numeric(loans_dataset.emp_length.apply(lambda x: 1 if \"<\" in x else (x.split('+')[0] if \"+\" in x else x.split()[0])))"
   ]
  },
  {
   "cell_type": "markdown",
   "id": "2f5bc362",
   "metadata": {},
   "source": [
    "Now lets see the dataset and observe our changes"
   ]
  },
  {
   "cell_type": "code",
   "execution_count": 28,
   "id": "c8b91640",
   "metadata": {},
   "outputs": [
    {
     "data": {
      "text/html": [
       "<div>\n",
       "<style scoped>\n",
       "    .dataframe tbody tr th:only-of-type {\n",
       "        vertical-align: middle;\n",
       "    }\n",
       "\n",
       "    .dataframe tbody tr th {\n",
       "        vertical-align: top;\n",
       "    }\n",
       "\n",
       "    .dataframe thead th {\n",
       "        text-align: right;\n",
       "    }\n",
       "</style>\n",
       "<table border=\"1\" class=\"dataframe\">\n",
       "  <thead>\n",
       "    <tr style=\"text-align: right;\">\n",
       "      <th></th>\n",
       "      <th>loan_amnt</th>\n",
       "      <th>funded_amnt_inv</th>\n",
       "      <th>term</th>\n",
       "      <th>int_rate</th>\n",
       "      <th>installment</th>\n",
       "      <th>grade</th>\n",
       "      <th>sub_grade</th>\n",
       "      <th>emp_length</th>\n",
       "      <th>home_ownership</th>\n",
       "      <th>annual_inc</th>\n",
       "      <th>verification_status</th>\n",
       "      <th>issue_d</th>\n",
       "      <th>loan_status</th>\n",
       "      <th>purpose</th>\n",
       "      <th>dti</th>\n",
       "      <th>earliest_cr_line</th>\n",
       "      <th>inq_last_6mths</th>\n",
       "      <th>open_acc</th>\n",
       "      <th>pub_rec</th>\n",
       "      <th>revol_util</th>\n",
       "      <th>total_acc</th>\n",
       "    </tr>\n",
       "  </thead>\n",
       "  <tbody>\n",
       "    <tr>\n",
       "      <th>0</th>\n",
       "      <td>5000</td>\n",
       "      <td>4975.0</td>\n",
       "      <td>36 months</td>\n",
       "      <td>10.65</td>\n",
       "      <td>162.87</td>\n",
       "      <td>B</td>\n",
       "      <td>B2</td>\n",
       "      <td>10</td>\n",
       "      <td>RENT</td>\n",
       "      <td>24000.0</td>\n",
       "      <td>Verified</td>\n",
       "      <td>Dec-11</td>\n",
       "      <td>Fully Paid</td>\n",
       "      <td>credit_card</td>\n",
       "      <td>27.65</td>\n",
       "      <td>Jan-85</td>\n",
       "      <td>1</td>\n",
       "      <td>3</td>\n",
       "      <td>0</td>\n",
       "      <td>83.70</td>\n",
       "      <td>9</td>\n",
       "    </tr>\n",
       "    <tr>\n",
       "      <th>1</th>\n",
       "      <td>2500</td>\n",
       "      <td>2500.0</td>\n",
       "      <td>60 months</td>\n",
       "      <td>15.27</td>\n",
       "      <td>59.83</td>\n",
       "      <td>C</td>\n",
       "      <td>C4</td>\n",
       "      <td>1</td>\n",
       "      <td>RENT</td>\n",
       "      <td>30000.0</td>\n",
       "      <td>Source Verified</td>\n",
       "      <td>Dec-11</td>\n",
       "      <td>Charged Off</td>\n",
       "      <td>car</td>\n",
       "      <td>1.00</td>\n",
       "      <td>Apr-99</td>\n",
       "      <td>5</td>\n",
       "      <td>3</td>\n",
       "      <td>0</td>\n",
       "      <td>9.40</td>\n",
       "      <td>4</td>\n",
       "    </tr>\n",
       "    <tr>\n",
       "      <th>2</th>\n",
       "      <td>2400</td>\n",
       "      <td>2400.0</td>\n",
       "      <td>36 months</td>\n",
       "      <td>15.96</td>\n",
       "      <td>84.33</td>\n",
       "      <td>C</td>\n",
       "      <td>C5</td>\n",
       "      <td>10</td>\n",
       "      <td>RENT</td>\n",
       "      <td>12252.0</td>\n",
       "      <td>Not Verified</td>\n",
       "      <td>Dec-11</td>\n",
       "      <td>Fully Paid</td>\n",
       "      <td>small_business</td>\n",
       "      <td>8.72</td>\n",
       "      <td>Nov-01</td>\n",
       "      <td>2</td>\n",
       "      <td>2</td>\n",
       "      <td>0</td>\n",
       "      <td>98.50</td>\n",
       "      <td>10</td>\n",
       "    </tr>\n",
       "    <tr>\n",
       "      <th>3</th>\n",
       "      <td>10000</td>\n",
       "      <td>10000.0</td>\n",
       "      <td>36 months</td>\n",
       "      <td>13.49</td>\n",
       "      <td>339.31</td>\n",
       "      <td>C</td>\n",
       "      <td>C1</td>\n",
       "      <td>10</td>\n",
       "      <td>RENT</td>\n",
       "      <td>49200.0</td>\n",
       "      <td>Source Verified</td>\n",
       "      <td>Dec-11</td>\n",
       "      <td>Fully Paid</td>\n",
       "      <td>other</td>\n",
       "      <td>20.00</td>\n",
       "      <td>Feb-96</td>\n",
       "      <td>1</td>\n",
       "      <td>10</td>\n",
       "      <td>0</td>\n",
       "      <td>21</td>\n",
       "      <td>37</td>\n",
       "    </tr>\n",
       "    <tr>\n",
       "      <th>5</th>\n",
       "      <td>5000</td>\n",
       "      <td>5000.0</td>\n",
       "      <td>36 months</td>\n",
       "      <td>7.90</td>\n",
       "      <td>156.46</td>\n",
       "      <td>A</td>\n",
       "      <td>A4</td>\n",
       "      <td>3</td>\n",
       "      <td>RENT</td>\n",
       "      <td>36000.0</td>\n",
       "      <td>Source Verified</td>\n",
       "      <td>Dec-11</td>\n",
       "      <td>Fully Paid</td>\n",
       "      <td>wedding</td>\n",
       "      <td>11.20</td>\n",
       "      <td>Nov-04</td>\n",
       "      <td>3</td>\n",
       "      <td>9</td>\n",
       "      <td>0</td>\n",
       "      <td>28.30</td>\n",
       "      <td>12</td>\n",
       "    </tr>\n",
       "  </tbody>\n",
       "</table>\n",
       "</div>"
      ],
      "text/plain": [
       "   loan_amnt  funded_amnt_inv        term int_rate  installment grade  \\\n",
       "0       5000           4975.0   36 months    10.65       162.87     B   \n",
       "1       2500           2500.0   60 months    15.27        59.83     C   \n",
       "2       2400           2400.0   36 months    15.96        84.33     C   \n",
       "3      10000          10000.0   36 months    13.49       339.31     C   \n",
       "5       5000           5000.0   36 months     7.90       156.46     A   \n",
       "\n",
       "  sub_grade  emp_length home_ownership  annual_inc verification_status  \\\n",
       "0        B2          10           RENT     24000.0            Verified   \n",
       "1        C4           1           RENT     30000.0     Source Verified   \n",
       "2        C5          10           RENT     12252.0        Not Verified   \n",
       "3        C1          10           RENT     49200.0     Source Verified   \n",
       "5        A4           3           RENT     36000.0     Source Verified   \n",
       "\n",
       "  issue_d  loan_status         purpose    dti earliest_cr_line  \\\n",
       "0  Dec-11   Fully Paid     credit_card  27.65           Jan-85   \n",
       "1  Dec-11  Charged Off             car   1.00           Apr-99   \n",
       "2  Dec-11   Fully Paid  small_business   8.72           Nov-01   \n",
       "3  Dec-11   Fully Paid           other  20.00           Feb-96   \n",
       "5  Dec-11   Fully Paid         wedding  11.20           Nov-04   \n",
       "\n",
       "   inq_last_6mths  open_acc  pub_rec revol_util  total_acc  \n",
       "0               1         3        0      83.70          9  \n",
       "1               5         3        0       9.40          4  \n",
       "2               2         2        0      98.50         10  \n",
       "3               1        10        0         21         37  \n",
       "5               3         9        0      28.30         12  "
      ]
     },
     "execution_count": 28,
     "metadata": {},
     "output_type": "execute_result"
    }
   ],
   "source": [
    "loans_dataset.head()"
   ]
  },
  {
   "cell_type": "markdown",
   "id": "99936e9c",
   "metadata": {},
   "source": [
    "We see that the values < 1 year now have been updated to 1 year and 10+ years is now 10 years. Also the string years has been removed"
   ]
  },
  {
   "cell_type": "code",
   "execution_count": 29,
   "id": "a7fa670b",
   "metadata": {},
   "outputs": [
    {
     "data": {
      "text/plain": [
       "Text(0.5, 0, 'Annual Income')"
      ]
     },
     "execution_count": 29,
     "metadata": {},
     "output_type": "execute_result"
    },
    {
     "data": {
      "image/png": "[encoded data removed]",
      "text/plain": [
       "<Figure size 432x288 with 1 Axes>"
      ]
     },
     "metadata": {
      "needs_background": "light"
     },
     "output_type": "display_data"
    }
   ],
   "source": [
    "plt.title(\"Distribution Plot of Borrower's Annual Income\")\n",
    "sns.boxplot(loans_dataset.annual_inc)\n",
    "plt.xlabel('Annual Income', labelpad = 15)"
   ]
  },
  {
   "cell_type": "markdown",
   "id": "966747e7",
   "metadata": {},
   "source": [
    "This plot gives us a clear picture of outliers. By observation, we see that after 2million, there is a huge discontinuity in the distribution. We can approximately consider 98% as the threshold. Let us get the quantile info to give us an idea of why 98% is chosen as the threshold."
   ]
  },
  {
   "cell_type": "code",
   "execution_count": 30,
   "id": "d4233b04",
   "metadata": {},
   "outputs": [
    {
     "data": {
      "text/plain": [
       "0.50     59000.0\n",
       "0.75     82000.0\n",
       "0.90    115000.0\n",
       "0.95    140004.0\n",
       "0.97    165000.0\n",
       "0.98    187000.0\n",
       "0.99    234000.0\n",
       "Name: annual_inc, dtype: float64"
      ]
     },
     "execution_count": 30,
     "metadata": {},
     "output_type": "execute_result"
    }
   ],
   "source": [
    "threshold_info = loans_dataset.annual_inc.quantile([0.5, 0.75,0.90, 0.95, 0.97,0.98, 0.99])\n",
    "threshold_info"
   ]
  },
  {
   "cell_type": "markdown",
   "id": "cffba0c6",
   "metadata": {},
   "source": [
    "Now it is safe to say that after the 98th percentile, data seems to go off from the distribution, so let us now remove the threshold values."
   ]
  },
  {
   "cell_type": "code",
   "execution_count": 31,
   "id": "e615a11c",
   "metadata": {},
   "outputs": [
    {
     "data": {
      "text/plain": [
       "Text(0.5, 0, 'Annual Income')"
      ]
     },
     "execution_count": 31,
     "metadata": {},
     "output_type": "execute_result"
    },
    {
     "data": {
      "image/png": "[encoded data removed]",
      "text/plain": [
       "<Figure size 432x288 with 1 Axes>"
      ]
     },
     "metadata": {
      "needs_background": "light"
     },
     "output_type": "display_data"
    }
   ],
   "source": [
    "loans_dataset = loans_dataset[loans_dataset.annual_inc <= loans_dataset.annual_inc.quantile(0.98)]\n",
    "plt.title(\"Updated Distribution Plot of Borrower's Annual Income to 98th percentile\")\n",
    "sns.boxplot(loans_dataset.annual_inc)\n",
    "plt.xlabel('Annual Income')"
   ]
  },
  {
   "cell_type": "markdown",
   "id": "4ddeaf0d",
   "metadata": {},
   "source": [
    "Let us now correct the data types of certain columns\n",
    "lets check the information from the dataset"
   ]
  },
  {
   "cell_type": "code",
   "execution_count": 32,
   "id": "f6fa1ab8",
   "metadata": {},
   "outputs": [
    {
     "name": "stdout",
     "output_type": "stream",
     "text": [
      "<class 'pandas.core.frame.DataFrame'>\n",
      "Int64Index: 37758 entries, 0 to 39716\n",
      "Data columns (total 21 columns):\n",
      " #   Column               Non-Null Count  Dtype  \n",
      "---  ------               --------------  -----  \n",
      " 0   loan_amnt            37758 non-null  int64  \n",
      " 1   funded_amnt_inv      37758 non-null  float64\n",
      " 2   term                 37758 non-null  object \n",
      " 3   int_rate             37758 non-null  object \n",
      " 4   installment          37758 non-null  float64\n",
      " 5   grade                37758 non-null  object \n",
      " 6   sub_grade            37758 non-null  object \n",
      " 7   emp_length           37758 non-null  int64  \n",
      " 8   home_ownership       37758 non-null  object \n",
      " 9   annual_inc           37758 non-null  float64\n",
      " 10  verification_status  37758 non-null  object \n",
      " 11  issue_d              37758 non-null  object \n",
      " 12  loan_status          37758 non-null  object \n",
      " 13  purpose              37758 non-null  object \n",
      " 14  dti                  37758 non-null  float64\n",
      " 15  earliest_cr_line     37758 non-null  object \n",
      " 16  inq_last_6mths       37758 non-null  int64  \n",
      " 17  open_acc             37758 non-null  int64  \n",
      " 18  pub_rec              37758 non-null  int64  \n",
      " 19  revol_util           37758 non-null  object \n",
      " 20  total_acc            37758 non-null  int64  \n",
      "dtypes: float64(4), int64(6), object(11)\n",
      "memory usage: 6.3+ MB\n"
     ]
    }
   ],
   "source": [
    "loans_dataset.info()"
   ]
  },
  {
   "cell_type": "markdown",
   "id": "8835f607",
   "metadata": {},
   "source": [
    "As you can see, int_rate is in object data type which is incorrect for calculation purpose. We will be changing it to float64"
   ]
  },
  {
   "cell_type": "code",
   "execution_count": 33,
   "id": "2a00224a",
   "metadata": {},
   "outputs": [
    {
     "name": "stdout",
     "output_type": "stream",
     "text": [
      "<class 'pandas.core.frame.DataFrame'>\n",
      "Int64Index: 37758 entries, 0 to 39716\n",
      "Data columns (total 21 columns):\n",
      " #   Column               Non-Null Count  Dtype  \n",
      "---  ------               --------------  -----  \n",
      " 0   loan_amnt            37758 non-null  int64  \n",
      " 1   funded_amnt_inv      37758 non-null  float64\n",
      " 2   term                 37758 non-null  object \n",
      " 3   int_rate             37758 non-null  float64\n",
      " 4   installment          37758 non-null  float64\n",
      " 5   grade                37758 non-null  object \n",
      " 6   sub_grade            37758 non-null  object \n",
      " 7   emp_length           37758 non-null  int64  \n",
      " 8   home_ownership       37758 non-null  object \n",
      " 9   annual_inc           37758 non-null  float64\n",
      " 10  verification_status  37758 non-null  object \n",
      " 11  issue_d              37758 non-null  object \n",
      " 12  loan_status          37758 non-null  object \n",
      " 13  purpose              37758 non-null  object \n",
      " 14  dti                  37758 non-null  float64\n",
      " 15  earliest_cr_line     37758 non-null  object \n",
      " 16  inq_last_6mths       37758 non-null  int64  \n",
      " 17  open_acc             37758 non-null  int64  \n",
      " 18  pub_rec              37758 non-null  int64  \n",
      " 19  revol_util           37758 non-null  object \n",
      " 20  total_acc            37758 non-null  int64  \n",
      "dtypes: float64(5), int64(6), object(10)\n",
      "memory usage: 6.3+ MB\n"
     ]
    }
   ],
   "source": [
    "loans_dataset.int_rate = pd.to_numeric(loans_dataset.int_rate)\n",
    "#to_numeric by default converts to float64\n",
    "loans_dataset.info()"
   ]
  },
  {
   "cell_type": "markdown",
   "id": "2747d216",
   "metadata": {},
   "source": [
    "### Lets now move to Derived Matrices\n",
    "We can pick the issue_d column for this"
   ]
  },
  {
   "cell_type": "code",
   "execution_count": 34,
   "id": "189d42d4",
   "metadata": {},
   "outputs": [
    {
     "data": {
      "text/html": [
       "<div>\n",
       "<style scoped>\n",
       "    .dataframe tbody tr th:only-of-type {\n",
       "        vertical-align: middle;\n",
       "    }\n",
       "\n",
       "    .dataframe tbody tr th {\n",
       "        vertical-align: top;\n",
       "    }\n",
       "\n",
       "    .dataframe thead th {\n",
       "        text-align: right;\n",
       "    }\n",
       "</style>\n",
       "<table border=\"1\" class=\"dataframe\">\n",
       "  <thead>\n",
       "    <tr style=\"text-align: right;\">\n",
       "      <th></th>\n",
       "      <th>loan_amnt</th>\n",
       "      <th>funded_amnt_inv</th>\n",
       "      <th>term</th>\n",
       "      <th>int_rate</th>\n",
       "      <th>installment</th>\n",
       "      <th>grade</th>\n",
       "      <th>sub_grade</th>\n",
       "      <th>emp_length</th>\n",
       "      <th>home_ownership</th>\n",
       "      <th>annual_inc</th>\n",
       "      <th>verification_status</th>\n",
       "      <th>issue_d</th>\n",
       "      <th>loan_status</th>\n",
       "      <th>purpose</th>\n",
       "      <th>dti</th>\n",
       "      <th>earliest_cr_line</th>\n",
       "      <th>inq_last_6mths</th>\n",
       "      <th>open_acc</th>\n",
       "      <th>pub_rec</th>\n",
       "      <th>revol_util</th>\n",
       "      <th>total_acc</th>\n",
       "    </tr>\n",
       "  </thead>\n",
       "  <tbody>\n",
       "    <tr>\n",
       "      <th>0</th>\n",
       "      <td>5000</td>\n",
       "      <td>4975.0</td>\n",
       "      <td>36 months</td>\n",
       "      <td>10.65</td>\n",
       "      <td>162.87</td>\n",
       "      <td>B</td>\n",
       "      <td>B2</td>\n",
       "      <td>10</td>\n",
       "      <td>RENT</td>\n",
       "      <td>24000.0</td>\n",
       "      <td>Verified</td>\n",
       "      <td>Dec-11</td>\n",
       "      <td>Fully Paid</td>\n",
       "      <td>credit_card</td>\n",
       "      <td>27.65</td>\n",
       "      <td>Jan-85</td>\n",
       "      <td>1</td>\n",
       "      <td>3</td>\n",
       "      <td>0</td>\n",
       "      <td>83.70</td>\n",
       "      <td>9</td>\n",
       "    </tr>\n",
       "    <tr>\n",
       "      <th>1</th>\n",
       "      <td>2500</td>\n",
       "      <td>2500.0</td>\n",
       "      <td>60 months</td>\n",
       "      <td>15.27</td>\n",
       "      <td>59.83</td>\n",
       "      <td>C</td>\n",
       "      <td>C4</td>\n",
       "      <td>1</td>\n",
       "      <td>RENT</td>\n",
       "      <td>30000.0</td>\n",
       "      <td>Source Verified</td>\n",
       "      <td>Dec-11</td>\n",
       "      <td>Charged Off</td>\n",
       "      <td>car</td>\n",
       "      <td>1.00</td>\n",
       "      <td>Apr-99</td>\n",
       "      <td>5</td>\n",
       "      <td>3</td>\n",
       "      <td>0</td>\n",
       "      <td>9.40</td>\n",
       "      <td>4</td>\n",
       "    </tr>\n",
       "    <tr>\n",
       "      <th>2</th>\n",
       "      <td>2400</td>\n",
       "      <td>2400.0</td>\n",
       "      <td>36 months</td>\n",
       "      <td>15.96</td>\n",
       "      <td>84.33</td>\n",
       "      <td>C</td>\n",
       "      <td>C5</td>\n",
       "      <td>10</td>\n",
       "      <td>RENT</td>\n",
       "      <td>12252.0</td>\n",
       "      <td>Not Verified</td>\n",
       "      <td>Dec-11</td>\n",
       "      <td>Fully Paid</td>\n",
       "      <td>small_business</td>\n",
       "      <td>8.72</td>\n",
       "      <td>Nov-01</td>\n",
       "      <td>2</td>\n",
       "      <td>2</td>\n",
       "      <td>0</td>\n",
       "      <td>98.50</td>\n",
       "      <td>10</td>\n",
       "    </tr>\n",
       "    <tr>\n",
       "      <th>3</th>\n",
       "      <td>10000</td>\n",
       "      <td>10000.0</td>\n",
       "      <td>36 months</td>\n",
       "      <td>13.49</td>\n",
       "      <td>339.31</td>\n",
       "      <td>C</td>\n",
       "      <td>C1</td>\n",
       "      <td>10</td>\n",
       "      <td>RENT</td>\n",
       "      <td>49200.0</td>\n",
       "      <td>Source Verified</td>\n",
       "      <td>Dec-11</td>\n",
       "      <td>Fully Paid</td>\n",
       "      <td>other</td>\n",
       "      <td>20.00</td>\n",
       "      <td>Feb-96</td>\n",
       "      <td>1</td>\n",
       "      <td>10</td>\n",
       "      <td>0</td>\n",
       "      <td>21</td>\n",
       "      <td>37</td>\n",
       "    </tr>\n",
       "    <tr>\n",
       "      <th>5</th>\n",
       "      <td>5000</td>\n",
       "      <td>5000.0</td>\n",
       "      <td>36 months</td>\n",
       "      <td>7.90</td>\n",
       "      <td>156.46</td>\n",
       "      <td>A</td>\n",
       "      <td>A4</td>\n",
       "      <td>3</td>\n",
       "      <td>RENT</td>\n",
       "      <td>36000.0</td>\n",
       "      <td>Source Verified</td>\n",
       "      <td>Dec-11</td>\n",
       "      <td>Fully Paid</td>\n",
       "      <td>wedding</td>\n",
       "      <td>11.20</td>\n",
       "      <td>Nov-04</td>\n",
       "      <td>3</td>\n",
       "      <td>9</td>\n",
       "      <td>0</td>\n",
       "      <td>28.30</td>\n",
       "      <td>12</td>\n",
       "    </tr>\n",
       "  </tbody>\n",
       "</table>\n",
       "</div>"
      ],
      "text/plain": [
       "   loan_amnt  funded_amnt_inv        term  int_rate  installment grade  \\\n",
       "0       5000           4975.0   36 months     10.65       162.87     B   \n",
       "1       2500           2500.0   60 months     15.27        59.83     C   \n",
       "2       2400           2400.0   36 months     15.96        84.33     C   \n",
       "3      10000          10000.0   36 months     13.49       339.31     C   \n",
       "5       5000           5000.0   36 months      7.90       156.46     A   \n",
       "\n",
       "  sub_grade  emp_length home_ownership  annual_inc verification_status  \\\n",
       "0        B2          10           RENT     24000.0            Verified   \n",
       "1        C4           1           RENT     30000.0     Source Verified   \n",
       "2        C5          10           RENT     12252.0        Not Verified   \n",
       "3        C1          10           RENT     49200.0     Source Verified   \n",
       "5        A4           3           RENT     36000.0     Source Verified   \n",
       "\n",
       "  issue_d  loan_status         purpose    dti earliest_cr_line  \\\n",
       "0  Dec-11   Fully Paid     credit_card  27.65           Jan-85   \n",
       "1  Dec-11  Charged Off             car   1.00           Apr-99   \n",
       "2  Dec-11   Fully Paid  small_business   8.72           Nov-01   \n",
       "3  Dec-11   Fully Paid           other  20.00           Feb-96   \n",
       "5  Dec-11   Fully Paid         wedding  11.20           Nov-04   \n",
       "\n",
       "   inq_last_6mths  open_acc  pub_rec revol_util  total_acc  \n",
       "0               1         3        0      83.70          9  \n",
       "1               5         3        0       9.40          4  \n",
       "2               2         2        0      98.50         10  \n",
       "3               1        10        0         21         37  \n",
       "5               3         9        0      28.30         12  "
      ]
     },
     "execution_count": 34,
     "metadata": {},
     "output_type": "execute_result"
    }
   ],
   "source": [
    "loans_dataset.head()"
   ]
  },
  {
   "cell_type": "code",
   "execution_count": 35,
   "id": "d7f97180",
   "metadata": {},
   "outputs": [],
   "source": [
    "loans_dataset['issue_yr'] = pd.to_datetime(loans_dataset.issue_d, format = '%b-%y').dt.year"
   ]
  },
  {
   "cell_type": "code",
   "execution_count": 36,
   "id": "d18798b8",
   "metadata": {},
   "outputs": [
    {
     "data": {
      "text/html": [
       "<div>\n",
       "<style scoped>\n",
       "    .dataframe tbody tr th:only-of-type {\n",
       "        vertical-align: middle;\n",
       "    }\n",
       "\n",
       "    .dataframe tbody tr th {\n",
       "        vertical-align: top;\n",
       "    }\n",
       "\n",
       "    .dataframe thead th {\n",
       "        text-align: right;\n",
       "    }\n",
       "</style>\n",
       "<table border=\"1\" class=\"dataframe\">\n",
       "  <thead>\n",
       "    <tr style=\"text-align: right;\">\n",
       "      <th></th>\n",
       "      <th>loan_amnt</th>\n",
       "      <th>funded_amnt_inv</th>\n",
       "      <th>term</th>\n",
       "      <th>int_rate</th>\n",
       "      <th>installment</th>\n",
       "      <th>grade</th>\n",
       "      <th>sub_grade</th>\n",
       "      <th>emp_length</th>\n",
       "      <th>home_ownership</th>\n",
       "      <th>annual_inc</th>\n",
       "      <th>verification_status</th>\n",
       "      <th>issue_d</th>\n",
       "      <th>loan_status</th>\n",
       "      <th>purpose</th>\n",
       "      <th>dti</th>\n",
       "      <th>earliest_cr_line</th>\n",
       "      <th>inq_last_6mths</th>\n",
       "      <th>open_acc</th>\n",
       "      <th>pub_rec</th>\n",
       "      <th>revol_util</th>\n",
       "      <th>total_acc</th>\n",
       "      <th>issue_yr</th>\n",
       "    </tr>\n",
       "  </thead>\n",
       "  <tbody>\n",
       "    <tr>\n",
       "      <th>0</th>\n",
       "      <td>5000</td>\n",
       "      <td>4975.0</td>\n",
       "      <td>36 months</td>\n",
       "      <td>10.65</td>\n",
       "      <td>162.87</td>\n",
       "      <td>B</td>\n",
       "      <td>B2</td>\n",
       "      <td>10</td>\n",
       "      <td>RENT</td>\n",
       "      <td>24000.0</td>\n",
       "      <td>Verified</td>\n",
       "      <td>Dec-11</td>\n",
       "      <td>Fully Paid</td>\n",
       "      <td>credit_card</td>\n",
       "      <td>27.65</td>\n",
       "      <td>Jan-85</td>\n",
       "      <td>1</td>\n",
       "      <td>3</td>\n",
       "      <td>0</td>\n",
       "      <td>83.70</td>\n",
       "      <td>9</td>\n",
       "      <td>2011</td>\n",
       "    </tr>\n",
       "    <tr>\n",
       "      <th>1</th>\n",
       "      <td>2500</td>\n",
       "      <td>2500.0</td>\n",
       "      <td>60 months</td>\n",
       "      <td>15.27</td>\n",
       "      <td>59.83</td>\n",
       "      <td>C</td>\n",
       "      <td>C4</td>\n",
       "      <td>1</td>\n",
       "      <td>RENT</td>\n",
       "      <td>30000.0</td>\n",
       "      <td>Source Verified</td>\n",
       "      <td>Dec-11</td>\n",
       "      <td>Charged Off</td>\n",
       "      <td>car</td>\n",
       "      <td>1.00</td>\n",
       "      <td>Apr-99</td>\n",
       "      <td>5</td>\n",
       "      <td>3</td>\n",
       "      <td>0</td>\n",
       "      <td>9.40</td>\n",
       "      <td>4</td>\n",
       "      <td>2011</td>\n",
       "    </tr>\n",
       "    <tr>\n",
       "      <th>2</th>\n",
       "      <td>2400</td>\n",
       "      <td>2400.0</td>\n",
       "      <td>36 months</td>\n",
       "      <td>15.96</td>\n",
       "      <td>84.33</td>\n",
       "      <td>C</td>\n",
       "      <td>C5</td>\n",
       "      <td>10</td>\n",
       "      <td>RENT</td>\n",
       "      <td>12252.0</td>\n",
       "      <td>Not Verified</td>\n",
       "      <td>Dec-11</td>\n",
       "      <td>Fully Paid</td>\n",
       "      <td>small_business</td>\n",
       "      <td>8.72</td>\n",
       "      <td>Nov-01</td>\n",
       "      <td>2</td>\n",
       "      <td>2</td>\n",
       "      <td>0</td>\n",
       "      <td>98.50</td>\n",
       "      <td>10</td>\n",
       "      <td>2011</td>\n",
       "    </tr>\n",
       "    <tr>\n",
       "      <th>3</th>\n",
       "      <td>10000</td>\n",
       "      <td>10000.0</td>\n",
       "      <td>36 months</td>\n",
       "      <td>13.49</td>\n",
       "      <td>339.31</td>\n",
       "      <td>C</td>\n",
       "      <td>C1</td>\n",
       "      <td>10</td>\n",
       "      <td>RENT</td>\n",
       "      <td>49200.0</td>\n",
       "      <td>Source Verified</td>\n",
       "      <td>Dec-11</td>\n",
       "      <td>Fully Paid</td>\n",
       "      <td>other</td>\n",
       "      <td>20.00</td>\n",
       "      <td>Feb-96</td>\n",
       "      <td>1</td>\n",
       "      <td>10</td>\n",
       "      <td>0</td>\n",
       "      <td>21</td>\n",
       "      <td>37</td>\n",
       "      <td>2011</td>\n",
       "    </tr>\n",
       "    <tr>\n",
       "      <th>5</th>\n",
       "      <td>5000</td>\n",
       "      <td>5000.0</td>\n",
       "      <td>36 months</td>\n",
       "      <td>7.90</td>\n",
       "      <td>156.46</td>\n",
       "      <td>A</td>\n",
       "      <td>A4</td>\n",
       "      <td>3</td>\n",
       "      <td>RENT</td>\n",
       "      <td>36000.0</td>\n",
       "      <td>Source Verified</td>\n",
       "      <td>Dec-11</td>\n",
       "      <td>Fully Paid</td>\n",
       "      <td>wedding</td>\n",
       "      <td>11.20</td>\n",
       "      <td>Nov-04</td>\n",
       "      <td>3</td>\n",
       "      <td>9</td>\n",
       "      <td>0</td>\n",
       "      <td>28.30</td>\n",
       "      <td>12</td>\n",
       "      <td>2011</td>\n",
       "    </tr>\n",
       "  </tbody>\n",
       "</table>\n",
       "</div>"
      ],
      "text/plain": [
       "   loan_amnt  funded_amnt_inv        term  int_rate  installment grade  \\\n",
       "0       5000           4975.0   36 months     10.65       162.87     B   \n",
       "1       2500           2500.0   60 months     15.27        59.83     C   \n",
       "2       2400           2400.0   36 months     15.96        84.33     C   \n",
       "3      10000          10000.0   36 months     13.49       339.31     C   \n",
       "5       5000           5000.0   36 months      7.90       156.46     A   \n",
       "\n",
       "  sub_grade  emp_length home_ownership  annual_inc verification_status  \\\n",
       "0        B2          10           RENT     24000.0            Verified   \n",
       "1        C4           1           RENT     30000.0     Source Verified   \n",
       "2        C5          10           RENT     12252.0        Not Verified   \n",
       "3        C1          10           RENT     49200.0     Source Verified   \n",
       "5        A4           3           RENT     36000.0     Source Verified   \n",
       "\n",
       "  issue_d  loan_status         purpose    dti earliest_cr_line  \\\n",
       "0  Dec-11   Fully Paid     credit_card  27.65           Jan-85   \n",
       "1  Dec-11  Charged Off             car   1.00           Apr-99   \n",
       "2  Dec-11   Fully Paid  small_business   8.72           Nov-01   \n",
       "3  Dec-11   Fully Paid           other  20.00           Feb-96   \n",
       "5  Dec-11   Fully Paid         wedding  11.20           Nov-04   \n",
       "\n",
       "   inq_last_6mths  open_acc  pub_rec revol_util  total_acc  issue_yr  \n",
       "0               1         3        0      83.70          9      2011  \n",
       "1               5         3        0       9.40          4      2011  \n",
       "2               2         2        0      98.50         10      2011  \n",
       "3               1        10        0         21         37      2011  \n",
       "5               3         9        0      28.30         12      2011  "
      ]
     },
     "execution_count": 36,
     "metadata": {},
     "output_type": "execute_result"
    }
   ],
   "source": [
    "loans_dataset.head()"
   ]
  },
  {
   "cell_type": "markdown",
   "id": "c07632ad",
   "metadata": {},
   "source": [
    "## Univariate Analysis"
   ]
  },
  {
   "cell_type": "markdown",
   "id": "315bb740",
   "metadata": {},
   "source": [
    "Let us perform univariate analysis on the following columns:\n",
    "### 1. Loan Status"
   ]
  },
  {
   "cell_type": "code",
   "execution_count": 37,
   "id": "92094ee8",
   "metadata": {},
   "outputs": [
    {
     "data": {
      "image/png": "[encoded data removed]",
      "text/plain": [
       "<Figure size 864x432 with 2 Axes>"
      ]
     },
     "metadata": {
      "needs_background": "light"
     },
     "output_type": "display_data"
    },
    {
     "name": "stdout",
     "output_type": "stream",
     "text": [
      "Fully Paid     32225\n",
      "Charged Off     5533\n",
      "Name: loan_status, dtype: int64\n"
     ]
    },
    {
     "data": {
      "text/plain": [
       "37758"
      ]
     },
     "execution_count": 37,
     "metadata": {},
     "output_type": "execute_result"
    }
   ],
   "source": [
    "plt.figure(figsize = (12, 6))\n",
    "\n",
    "plt.subplot(1, 2, 1)\n",
    "plt.title('Line Plot Frequency Plot of Loan Status')\n",
    "sns.lineplot(data = loans_dataset.loan_status.value_counts(dropna = False).sort_index(), palette=\"Set2\")\n",
    "plt.xlabel('Loan Status')\n",
    "plt.ylabel('Frequency')\n",
    "\n",
    "plt.subplot(1, 2, 2)\n",
    "plt.title('Count ploFrequency Plot of Loan Status')\n",
    "sns.countplot(x = 'loan_status',  \n",
    "              order = loans_dataset.loan_status.value_counts(dropna = False).sort_index().index, \n",
    "              data = loans_dataset, palette=\"Set2\", edgecolor=sns.color_palette(\"dark\", 3))\n",
    "plt.xlabel('Loan Status')\n",
    "plt.ylabel('Frequency')\n",
    "\n",
    "plt.subplots_adjust(wspace = 0.5)\n",
    "plt.show()\n",
    "\n",
    "\n",
    "print(loans_dataset.loan_status.value_counts(dropna = False))\n",
    "loans_dataset.loan_status.value_counts(dropna = False).sum()"
   ]
  },
  {
   "cell_type": "markdown",
   "id": "b5f4486e",
   "metadata": {},
   "source": [
    "#### Out of 37042 values, 5448 are charged off and that is our main area of analysis"
   ]
  },
  {
   "cell_type": "markdown",
   "id": "46668377",
   "metadata": {},
   "source": [
    "### 2. Term"
   ]
  },
  {
   "cell_type": "code",
   "execution_count": 38,
   "id": "1493cf35",
   "metadata": {},
   "outputs": [
    {
     "data": {
      "image/png": "[encoded data removed]",
      "text/plain": [
       "<Figure size 864x432 with 2 Axes>"
      ]
     },
     "metadata": {
      "needs_background": "light"
     },
     "output_type": "display_data"
    },
    {
     "name": "stdout",
     "output_type": "stream",
     "text": [
      " 36 months    3171\n",
      " 60 months    2362\n",
      "Name: term, dtype: int64\n"
     ]
    },
    {
     "data": {
      "text/plain": [
       "5533"
      ]
     },
     "execution_count": 38,
     "metadata": {},
     "output_type": "execute_result"
    }
   ],
   "source": [
    "\n",
    "\n",
    "plt.figure(figsize = (12, 6))\n",
    "\n",
    "plt.subplot(1, 2, 1)\n",
    "plt.title('Count Plot Frequency Plot of Loan Term')\n",
    "sns.countplot(x = 'term',  \n",
    "              order = loans_dataset.term.value_counts(dropna = False).sort_index().index, \n",
    "              data = loans_dataset, palette=\"Set2\", edgecolor=sns.color_palette(\"dark\", 3))\n",
    "plt.xlabel('Loan Term')\n",
    "plt.ylabel('Frequency')\n",
    "\n",
    "\n",
    "plt.subplot(1, 2, 2)\n",
    "plt.title('Count plot Frequency Plot of Loan Term')\n",
    "sns.countplot(x='term',  hue = 'loan_status',\n",
    "              order= loans_dataset.term.value_counts(dropna = False).sort_index().index,\n",
    "              data = loans_dataset, palette=\"Set2\", edgecolor=sns.color_palette(\"dark\", 3))\n",
    "plt.xlabel('Loan Term')\n",
    "plt.ylabel('Frequency')\n",
    "\n",
    "plt.subplots_adjust(wspace = 0.5)\n",
    "plt.show()\n",
    "\n",
    "\n",
    "print(loans_dataset.term[loans_dataset['loan_status']=='Charged Off'].value_counts(dropna = False))\n",
    "loans_dataset.term[loans_dataset['loan_status']=='Charged Off'].value_counts(dropna = False).sum()"
   ]
  },
  {
   "cell_type": "markdown",
   "id": "da4c339b",
   "metadata": {},
   "source": [
    "#### Most of the people who apply for the loan term of 36 months tend to be charged off or get defaulted. 3171 people who opted for 36 months got defaulted/charged off against 2362 people who opted for 60months."
   ]
  },
  {
   "cell_type": "markdown",
   "id": "6dd90128",
   "metadata": {},
   "source": [
    "### 3. Employment Length"
   ]
  },
  {
   "cell_type": "code",
   "execution_count": 39,
   "id": "11e85573",
   "metadata": {},
   "outputs": [
    {
     "data": {
      "image/png": "[encoded data removed]",
      "text/plain": [
       "<Figure size 864x432 with 2 Axes>"
      ]
     },
     "metadata": {
      "needs_background": "light"
     },
     "output_type": "display_data"
    },
    {
     "name": "stdout",
     "output_type": "stream",
     "text": [
      "10    1528\n",
      "1     1078\n",
      "2      559\n",
      "3      549\n",
      "4      452\n",
      "5      450\n",
      "6      301\n",
      "7      261\n",
      "8      199\n",
      "9      156\n",
      "Name: emp_length, dtype: int64\n"
     ]
    },
    {
     "data": {
      "text/plain": [
       "5533"
      ]
     },
     "execution_count": 39,
     "metadata": {},
     "output_type": "execute_result"
    }
   ],
   "source": [
    "\n",
    "\n",
    "plt.figure(figsize = (12, 6))\n",
    "\n",
    "plt.subplot(1, 2, 1)\n",
    "plt.title('Count Plot Frequency Plot of Employment length')\n",
    "sns.countplot(x = 'emp_length',  \n",
    "              order = loans_dataset.emp_length.value_counts(dropna = False).sort_index().index, \n",
    "              data = loans_dataset, palette=\"Set2\", edgecolor=sns.color_palette(\"dark\", 3))\n",
    "plt.xlabel('Employment Length')\n",
    "plt.ylabel('Frequency')\n",
    "\n",
    "\n",
    "plt.subplot(1, 2, 2)\n",
    "plt.title('Count plot Frequency Plot of Employment length')\n",
    "sns.countplot(x='emp_length',  hue = 'loan_status',\n",
    "              order= loans_dataset.emp_length.value_counts(dropna = False).sort_index().index,\n",
    "              data = loans_dataset, palette=\"Set2\", edgecolor=sns.color_palette(\"dark\", 3))\n",
    "plt.xlabel('Employment Length')\n",
    "plt.ylabel('Frequency')\n",
    "\n",
    "plt.subplots_adjust(wspace = 0.5)\n",
    "plt.show()\n",
    "\n",
    "\n",
    "print(loans_dataset.emp_length[loans_dataset['loan_status']=='Charged Off'].value_counts(dropna = False))\n",
    "loans_dataset.emp_length[loans_dataset['loan_status']=='Charged Off'].value_counts(dropna = False).sum()"
   ]
  },
  {
   "cell_type": "markdown",
   "id": "1b8581f9",
   "metadata": {},
   "source": [
    "#### From the above plots we can say that people who have the employment term as 10+ years and 1 year tend to be  defaulted/charged off more than other employment terms"
   ]
  },
  {
   "cell_type": "markdown",
   "id": "1983376e",
   "metadata": {},
   "source": [
    "### 4. Grades"
   ]
  },
  {
   "cell_type": "code",
   "execution_count": 40,
   "id": "56ba1ee4",
   "metadata": {},
   "outputs": [
    {
     "data": {
      "image/png": "[encoded data removed]",
      "text/plain": [
       "<Figure size 864x432 with 2 Axes>"
      ]
     },
     "metadata": {
      "needs_background": "light"
     },
     "output_type": "display_data"
    },
    {
     "name": "stdout",
     "output_type": "stream",
     "text": [
      "A     9905\n",
      "B    11451\n",
      "C     7662\n",
      "D     4961\n",
      "E     2568\n",
      "F      929\n",
      "G      282\n",
      "Name: grade, dtype: int64\n"
     ]
    },
    {
     "data": {
      "text/plain": [
       "loan_status  grade\n",
       "Charged Off  A          600\n",
       "             B         1404\n",
       "             C         1334\n",
       "             D         1102\n",
       "             E          693\n",
       "             F          305\n",
       "             G           95\n",
       "Fully Paid   A         9305\n",
       "             B        10047\n",
       "             C         6328\n",
       "             D         3859\n",
       "             E         1875\n",
       "             F          624\n",
       "             G          187\n",
       "Name: grade, dtype: int64"
      ]
     },
     "execution_count": 40,
     "metadata": {},
     "output_type": "execute_result"
    }
   ],
   "source": [
    "plt.figure(figsize = (12, 6))\n",
    "\n",
    "plt.subplot(1, 2, 1)\n",
    "plt.title('Count Plot Frequency Plot of Grades')\n",
    "sns.countplot(x = 'grade',  \n",
    "              order = loans_dataset.grade.value_counts(dropna = False).sort_index().index, \n",
    "              data = loans_dataset, palette=\"Set2\", edgecolor=sns.color_palette(\"dark\", 3))\n",
    "plt.xlabel('Grades')\n",
    "plt.ylabel('Frequency')\n",
    "\n",
    "\n",
    "plt.subplot(1, 2, 2)\n",
    "plt.title('Count plot Frequency Plot of Grades')\n",
    "sns.countplot(x='grade',  hue = 'loan_status',\n",
    "              order= loans_dataset.grade.value_counts(dropna = False).sort_index().index,\n",
    "              data = loans_dataset, palette=\"Set2\", edgecolor=sns.color_palette(\"dark\", 3))\n",
    "plt.xlabel('Grades with Loan status')\n",
    "plt.ylabel('Frequency')\n",
    "\n",
    "plt.subplots_adjust(wspace = 0.5)\n",
    "plt.show()\n",
    "\n",
    "\n",
    "print(loans_dataset.grade.value_counts(dropna = False).sort_index())\n",
    "loans_dataset.groupby(by = 'loan_status').grade.value_counts(dropna = False).sort_index()\n",
    "#loans_dataset.grade[loans_dataset['grade']=='Charged Off'].value_counts(dropna = False).sum()"
   ]
  },
  {
   "cell_type": "markdown",
   "id": "b09590aa",
   "metadata": {},
   "source": [
    "#### We can infer from the above plots that, grades B, C & D tend to be defaulted/charged off more than the other grades."
   ]
  },
  {
   "cell_type": "markdown",
   "id": "2e6ed26a",
   "metadata": {},
   "source": [
    "### 5. Issue Year"
   ]
  },
  {
   "cell_type": "code",
   "execution_count": 41,
   "id": "c3505e77",
   "metadata": {},
   "outputs": [
    {
     "data": {
      "image/png": "[encoded data removed]",
      "text/plain": [
       "<Figure size 864x432 with 2 Axes>"
      ]
     },
     "metadata": {
      "needs_background": "light"
     },
     "output_type": "display_data"
    },
    {
     "name": "stdout",
     "output_type": "stream",
     "text": [
      "2007      240\n",
      "2008     1530\n",
      "2009     4598\n",
      "2010    11298\n",
      "2011    20092\n",
      "Name: issue_yr, dtype: int64\n"
     ]
    },
    {
     "data": {
      "text/plain": [
       "loan_status  issue_yr\n",
       "Charged Off  2007           42\n",
       "             2008          240\n",
       "             2009          581\n",
       "             2010         1450\n",
       "             2011         3220\n",
       "Fully Paid   2007          198\n",
       "             2008         1290\n",
       "             2009         4017\n",
       "             2010         9848\n",
       "             2011        16872\n",
       "Name: issue_yr, dtype: int64"
      ]
     },
     "execution_count": 41,
     "metadata": {},
     "output_type": "execute_result"
    }
   ],
   "source": [
    "plt.figure(figsize = (12, 6))\n",
    "\n",
    "plt.subplot(1, 2, 1)\n",
    "plt.title('Count Plot Frequency Plot of Issue Year')\n",
    "sns.countplot(x = 'issue_yr',  \n",
    "              order = loans_dataset.issue_yr.value_counts(dropna = False).sort_index().index, \n",
    "              data = loans_dataset, palette=\"Set2\", edgecolor=sns.color_palette(\"dark\", 3))\n",
    "plt.xlabel('Grades')\n",
    "plt.ylabel('Frequency')\n",
    "\n",
    "\n",
    "plt.subplot(1, 2, 2)\n",
    "plt.title('Count plot Frequency Plot of Issue Year with Loan status')\n",
    "sns.countplot(x='issue_yr',  hue = 'loan_status',\n",
    "              order= loans_dataset.issue_yr.value_counts(dropna = False).sort_index().index,\n",
    "              data = loans_dataset, palette=\"Set2\", edgecolor=sns.color_palette(\"dark\", 3))\n",
    "plt.xlabel('Issue year with Loan status')\n",
    "plt.ylabel('Frequency')\n",
    "\n",
    "plt.subplots_adjust(wspace = 0.5)\n",
    "plt.show()\n",
    "\n",
    "\n",
    "print(loans_dataset.issue_yr.value_counts(dropna = False).sort_index())\n",
    "loans_dataset.groupby(by = 'loan_status').issue_yr.value_counts(dropna = False).sort_index()\n",
    "#loans_dataset.grade[loans_dataset['grade']=='Charged Off'].value_counts(dropna = False).sum()"
   ]
  },
  {
   "cell_type": "markdown",
   "id": "e5d32b36",
   "metadata": {},
   "source": [
    "#### We can see that in the year 2011, the loans issued are tend to get more defaulted than in the previous years, followed by the year 2010"
   ]
  },
  {
   "cell_type": "markdown",
   "id": "28575d3a",
   "metadata": {},
   "source": [
    "### 6. Home Ownership"
   ]
  },
  {
   "cell_type": "code",
   "execution_count": 42,
   "id": "99ce7398",
   "metadata": {},
   "outputs": [
    {
     "data": {
      "image/png": "[encoded data removed]",
      "text/plain": [
       "<Figure size 864x432 with 2 Axes>"
      ]
     },
     "metadata": {
      "needs_background": "light"
     },
     "output_type": "display_data"
    },
    {
     "name": "stdout",
     "output_type": "stream",
     "text": [
      "RENT        18290\n",
      "MORTGAGE    16453\n",
      "OWN          2919\n",
      "OTHER          93\n",
      "NONE            3\n",
      "Name: home_ownership, dtype: int64\n"
     ]
    },
    {
     "data": {
      "text/plain": [
       "loan_status  home_ownership\n",
       "Charged Off  MORTGAGE           2276\n",
       "             OTHER                17\n",
       "             OWN                 437\n",
       "             RENT               2803\n",
       "Fully Paid   MORTGAGE          14177\n",
       "             NONE                  3\n",
       "             OTHER                76\n",
       "             OWN                2482\n",
       "             RENT              15487\n",
       "Name: home_ownership, dtype: int64"
      ]
     },
     "execution_count": 42,
     "metadata": {},
     "output_type": "execute_result"
    }
   ],
   "source": [
    "plt.figure(figsize = (12, 6))\n",
    "\n",
    "plt.subplot(1, 2, 1)\n",
    "plt.title('Line Plot Frequency Plot of Home ownership')\n",
    "sns.lineplot(data = loans_dataset.home_ownership.value_counts(dropna = False).sort_index(), palette=\"Set2\")\n",
    "plt.xlabel('Home Ownership')\n",
    "plt.ylabel('Frequency')\n",
    "\n",
    "plt.subplot(1, 2, 2)\n",
    "plt.title('Count plot Frequency Plot of Home ownership with Charged off')\n",
    "sns.countplot(x = 'home_ownership', hue = 'loan_status', \n",
    "              order = loans_dataset.home_ownership.value_counts(dropna = False).sort_index().index, \n",
    "              data = loans_dataset, palette=\"Set2\", edgecolor=sns.color_palette(\"dark\", 3))\n",
    "plt.xlabel('Home Ownership with Charged off')\n",
    "plt.ylabel('Frequency')\n",
    "\n",
    "plt.subplots_adjust(wspace = 0.5)\n",
    "plt.show()\n",
    "\n",
    "\n",
    "print(loans_dataset.home_ownership.value_counts(dropna = False))\n",
    "loans_dataset.groupby(by = 'loan_status').home_ownership.value_counts(dropna = False).sort_index()"
   ]
  },
  {
   "cell_type": "markdown",
   "id": "72453841",
   "metadata": {},
   "source": [
    "#### We can observe from the plots that there is a high occourance of Defaulted/Charged off loan takers amongst Mortgage and Rented home ownership"
   ]
  },
  {
   "cell_type": "markdown",
   "id": "22f8a3f4",
   "metadata": {},
   "source": [
    "### 7. Purpose"
   ]
  },
  {
   "cell_type": "code",
   "execution_count": 43,
   "id": "118d552f",
   "metadata": {
    "scrolled": true
   },
   "outputs": [
    {
     "data": {
      "image/png": "[encoded data removed]",
      "text/plain": [
       "<Figure size 864x432 with 2 Axes>"
      ]
     },
     "metadata": {
      "needs_background": "light"
     },
     "output_type": "display_data"
    },
    {
     "name": "stdout",
     "output_type": "stream",
     "text": [
      "debt_consolidation    17767\n",
      "credit_card            4937\n",
      "other                  3776\n",
      "home_improvement       2735\n",
      "major_purchase         2101\n",
      "small_business         1697\n",
      "car                    1477\n",
      "wedding                 908\n",
      "medical                 659\n",
      "moving                  564\n",
      "vacation                371\n",
      "house                   353\n",
      "educational             316\n",
      "renewable_energy         97\n",
      "Name: purpose, dtype: int64\n"
     ]
    },
    {
     "data": {
      "text/plain": [
       "loan_status  purpose           \n",
       "Charged Off  car                     159\n",
       "             credit_card             533\n",
       "             debt_consolidation     2738\n",
       "             educational              54\n",
       "             home_improvement        332\n",
       "             house                    57\n",
       "             major_purchase          218\n",
       "             medical                 105\n",
       "             moving                   90\n",
       "             other                   613\n",
       "             renewable_energy         18\n",
       "             small_business          469\n",
       "             vacation                 53\n",
       "             wedding                  94\n",
       "Fully Paid   car                    1318\n",
       "             credit_card            4404\n",
       "             debt_consolidation    15029\n",
       "             educational             262\n",
       "             home_improvement       2403\n",
       "             house                   296\n",
       "             major_purchase         1883\n",
       "             medical                 554\n",
       "             moving                  474\n",
       "             other                  3163\n",
       "             renewable_energy         79\n",
       "             small_business         1228\n",
       "             vacation                318\n",
       "             wedding                 814\n",
       "Name: purpose, dtype: int64"
      ]
     },
     "execution_count": 43,
     "metadata": {},
     "output_type": "execute_result"
    }
   ],
   "source": [
    "plt.figure(figsize = (12, 6))\n",
    "\n",
    "plt.subplot(1, 2, 1)\n",
    "plt.title('Line Plot Frequency Plot of Loan Purpose')\n",
    "sns.lineplot(data = loans_dataset.purpose.value_counts(dropna = False).sort_index(), palette=\"Set2\")\n",
    "plt.xlabel('Loan Purpose')\n",
    "plt.ylabel('Frequency')\n",
    "plt.xticks(rotation = 90)\n",
    "\n",
    "plt.subplot(1, 2, 2)\n",
    "plt.title('Count plot Frequency Plot of Loan Purpose with Charged Off')\n",
    "sns.countplot(x = 'purpose', hue = 'loan_status', \n",
    "              order = loans_dataset.purpose.value_counts(dropna = False).sort_index().index, \n",
    "              data = loans_dataset, palette=\"Set2\", edgecolor=sns.color_palette(\"dark\", 3))\n",
    "plt.xlabel('Loan Purpose with Charged off')\n",
    "plt.ylabel('Frequency')\n",
    "plt.xticks(rotation = 90)\n",
    "\n",
    "plt.subplots_adjust(wspace = 0.5)\n",
    "plt.show()\n",
    "\n",
    "\n",
    "print(loans_dataset.purpose.value_counts(dropna = False))\n",
    "loans_dataset.groupby(by = 'loan_status').purpose.value_counts(dropna = False).sort_index()"
   ]
  },
  {
   "cell_type": "markdown",
   "id": "f039b37c",
   "metadata": {},
   "source": [
    "#### From the above plots we can conclude that, the main loan purposes that have been charged off are \n",
    "1. debt_consolidation\n",
    "2. credit_card\n",
    "3. other\n",
    " \n",
    "##### But in terms of higher percentage, the loan purpose that has higher charged off rate is small_business"
   ]
  },
  {
   "cell_type": "code",
   "execution_count": 44,
   "id": "a812a4c0",
   "metadata": {},
   "outputs": [
    {
     "data": {
      "text/html": [
       "<div>\n",
       "<style scoped>\n",
       "    .dataframe tbody tr th:only-of-type {\n",
       "        vertical-align: middle;\n",
       "    }\n",
       "\n",
       "    .dataframe tbody tr th {\n",
       "        vertical-align: top;\n",
       "    }\n",
       "\n",
       "    .dataframe thead th {\n",
       "        text-align: right;\n",
       "    }\n",
       "</style>\n",
       "<table border=\"1\" class=\"dataframe\">\n",
       "  <thead>\n",
       "    <tr style=\"text-align: right;\">\n",
       "      <th></th>\n",
       "      <th>loan_amnt</th>\n",
       "      <th>funded_amnt_inv</th>\n",
       "      <th>term</th>\n",
       "      <th>int_rate</th>\n",
       "      <th>installment</th>\n",
       "      <th>grade</th>\n",
       "      <th>sub_grade</th>\n",
       "      <th>emp_length</th>\n",
       "      <th>home_ownership</th>\n",
       "      <th>annual_inc</th>\n",
       "      <th>verification_status</th>\n",
       "      <th>issue_d</th>\n",
       "      <th>loan_status</th>\n",
       "      <th>purpose</th>\n",
       "      <th>dti</th>\n",
       "      <th>earliest_cr_line</th>\n",
       "      <th>inq_last_6mths</th>\n",
       "      <th>open_acc</th>\n",
       "      <th>pub_rec</th>\n",
       "      <th>revol_util</th>\n",
       "      <th>total_acc</th>\n",
       "      <th>issue_yr</th>\n",
       "    </tr>\n",
       "  </thead>\n",
       "  <tbody>\n",
       "    <tr>\n",
       "      <th>0</th>\n",
       "      <td>5000</td>\n",
       "      <td>4975.0</td>\n",
       "      <td>36 months</td>\n",
       "      <td>10.65</td>\n",
       "      <td>162.87</td>\n",
       "      <td>B</td>\n",
       "      <td>B2</td>\n",
       "      <td>10</td>\n",
       "      <td>RENT</td>\n",
       "      <td>24000.0</td>\n",
       "      <td>Verified</td>\n",
       "      <td>Dec-11</td>\n",
       "      <td>Fully Paid</td>\n",
       "      <td>credit_card</td>\n",
       "      <td>27.65</td>\n",
       "      <td>Jan-85</td>\n",
       "      <td>1</td>\n",
       "      <td>3</td>\n",
       "      <td>0</td>\n",
       "      <td>83.70</td>\n",
       "      <td>9</td>\n",
       "      <td>2011</td>\n",
       "    </tr>\n",
       "    <tr>\n",
       "      <th>1</th>\n",
       "      <td>2500</td>\n",
       "      <td>2500.0</td>\n",
       "      <td>60 months</td>\n",
       "      <td>15.27</td>\n",
       "      <td>59.83</td>\n",
       "      <td>C</td>\n",
       "      <td>C4</td>\n",
       "      <td>1</td>\n",
       "      <td>RENT</td>\n",
       "      <td>30000.0</td>\n",
       "      <td>Source Verified</td>\n",
       "      <td>Dec-11</td>\n",
       "      <td>Charged Off</td>\n",
       "      <td>car</td>\n",
       "      <td>1.00</td>\n",
       "      <td>Apr-99</td>\n",
       "      <td>5</td>\n",
       "      <td>3</td>\n",
       "      <td>0</td>\n",
       "      <td>9.40</td>\n",
       "      <td>4</td>\n",
       "      <td>2011</td>\n",
       "    </tr>\n",
       "    <tr>\n",
       "      <th>2</th>\n",
       "      <td>2400</td>\n",
       "      <td>2400.0</td>\n",
       "      <td>36 months</td>\n",
       "      <td>15.96</td>\n",
       "      <td>84.33</td>\n",
       "      <td>C</td>\n",
       "      <td>C5</td>\n",
       "      <td>10</td>\n",
       "      <td>RENT</td>\n",
       "      <td>12252.0</td>\n",
       "      <td>Not Verified</td>\n",
       "      <td>Dec-11</td>\n",
       "      <td>Fully Paid</td>\n",
       "      <td>small_business</td>\n",
       "      <td>8.72</td>\n",
       "      <td>Nov-01</td>\n",
       "      <td>2</td>\n",
       "      <td>2</td>\n",
       "      <td>0</td>\n",
       "      <td>98.50</td>\n",
       "      <td>10</td>\n",
       "      <td>2011</td>\n",
       "    </tr>\n",
       "    <tr>\n",
       "      <th>3</th>\n",
       "      <td>10000</td>\n",
       "      <td>10000.0</td>\n",
       "      <td>36 months</td>\n",
       "      <td>13.49</td>\n",
       "      <td>339.31</td>\n",
       "      <td>C</td>\n",
       "      <td>C1</td>\n",
       "      <td>10</td>\n",
       "      <td>RENT</td>\n",
       "      <td>49200.0</td>\n",
       "      <td>Source Verified</td>\n",
       "      <td>Dec-11</td>\n",
       "      <td>Fully Paid</td>\n",
       "      <td>other</td>\n",
       "      <td>20.00</td>\n",
       "      <td>Feb-96</td>\n",
       "      <td>1</td>\n",
       "      <td>10</td>\n",
       "      <td>0</td>\n",
       "      <td>21</td>\n",
       "      <td>37</td>\n",
       "      <td>2011</td>\n",
       "    </tr>\n",
       "    <tr>\n",
       "      <th>5</th>\n",
       "      <td>5000</td>\n",
       "      <td>5000.0</td>\n",
       "      <td>36 months</td>\n",
       "      <td>7.90</td>\n",
       "      <td>156.46</td>\n",
       "      <td>A</td>\n",
       "      <td>A4</td>\n",
       "      <td>3</td>\n",
       "      <td>RENT</td>\n",
       "      <td>36000.0</td>\n",
       "      <td>Source Verified</td>\n",
       "      <td>Dec-11</td>\n",
       "      <td>Fully Paid</td>\n",
       "      <td>wedding</td>\n",
       "      <td>11.20</td>\n",
       "      <td>Nov-04</td>\n",
       "      <td>3</td>\n",
       "      <td>9</td>\n",
       "      <td>0</td>\n",
       "      <td>28.30</td>\n",
       "      <td>12</td>\n",
       "      <td>2011</td>\n",
       "    </tr>\n",
       "  </tbody>\n",
       "</table>\n",
       "</div>"
      ],
      "text/plain": [
       "   loan_amnt  funded_amnt_inv        term  int_rate  installment grade  \\\n",
       "0       5000           4975.0   36 months     10.65       162.87     B   \n",
       "1       2500           2500.0   60 months     15.27        59.83     C   \n",
       "2       2400           2400.0   36 months     15.96        84.33     C   \n",
       "3      10000          10000.0   36 months     13.49       339.31     C   \n",
       "5       5000           5000.0   36 months      7.90       156.46     A   \n",
       "\n",
       "  sub_grade  emp_length home_ownership  annual_inc verification_status  \\\n",
       "0        B2          10           RENT     24000.0            Verified   \n",
       "1        C4           1           RENT     30000.0     Source Verified   \n",
       "2        C5          10           RENT     12252.0        Not Verified   \n",
       "3        C1          10           RENT     49200.0     Source Verified   \n",
       "5        A4           3           RENT     36000.0     Source Verified   \n",
       "\n",
       "  issue_d  loan_status         purpose    dti earliest_cr_line  \\\n",
       "0  Dec-11   Fully Paid     credit_card  27.65           Jan-85   \n",
       "1  Dec-11  Charged Off             car   1.00           Apr-99   \n",
       "2  Dec-11   Fully Paid  small_business   8.72           Nov-01   \n",
       "3  Dec-11   Fully Paid           other  20.00           Feb-96   \n",
       "5  Dec-11   Fully Paid         wedding  11.20           Nov-04   \n",
       "\n",
       "   inq_last_6mths  open_acc  pub_rec revol_util  total_acc  issue_yr  \n",
       "0               1         3        0      83.70          9      2011  \n",
       "1               5         3        0       9.40          4      2011  \n",
       "2               2         2        0      98.50         10      2011  \n",
       "3               1        10        0         21         37      2011  \n",
       "5               3         9        0      28.30         12      2011  "
      ]
     },
     "execution_count": 44,
     "metadata": {},
     "output_type": "execute_result"
    }
   ],
   "source": [
    "loans_dataset.head()"
   ]
  },
  {
   "cell_type": "markdown",
   "id": "dfa1a10d",
   "metadata": {},
   "source": [
    "### Bivariate Analysis"
   ]
  },
  {
   "cell_type": "markdown",
   "id": "789d9b26",
   "metadata": {},
   "source": [
    "Before we do the bivariate analysis, let us do the binning of certain columns, as we have too much data to plot and observe in a graphical representation\n",
    "### A. Annual Income Binning"
   ]
  },
  {
   "cell_type": "code",
   "execution_count": 56,
   "id": "83155078",
   "metadata": {},
   "outputs": [],
   "source": [
    "loans_dataset['annual_inc_bin'] = pd.cut(loans_dataset['annual_inc'], bins=5,precision =0, labels =['3.8k-41k','41k-77k','77k-114k','114k-150k','150k-187k'])\n"
   ]
  },
  {
   "cell_type": "code",
   "execution_count": 57,
   "id": "e1ead4de",
   "metadata": {},
   "outputs": [
    {
     "name": "stdout",
     "output_type": "stream",
     "text": [
      "41k-77k      17639\n",
      "3.8k-41k      9748\n",
      "77k-114k      7082\n",
      "114k-150k     2576\n",
      "150k-187k      713\n",
      "Name: annual_inc_bin, dtype: int64\n"
     ]
    },
    {
     "data": {
      "text/html": [
       "<div>\n",
       "<style scoped>\n",
       "    .dataframe tbody tr th:only-of-type {\n",
       "        vertical-align: middle;\n",
       "    }\n",
       "\n",
       "    .dataframe tbody tr th {\n",
       "        vertical-align: top;\n",
       "    }\n",
       "\n",
       "    .dataframe thead th {\n",
       "        text-align: right;\n",
       "    }\n",
       "</style>\n",
       "<table border=\"1\" class=\"dataframe\">\n",
       "  <thead>\n",
       "    <tr style=\"text-align: right;\">\n",
       "      <th></th>\n",
       "      <th>loan_amnt</th>\n",
       "      <th>funded_amnt_inv</th>\n",
       "      <th>term</th>\n",
       "      <th>int_rate</th>\n",
       "      <th>installment</th>\n",
       "      <th>grade</th>\n",
       "      <th>sub_grade</th>\n",
       "      <th>emp_length</th>\n",
       "      <th>home_ownership</th>\n",
       "      <th>annual_inc</th>\n",
       "      <th>verification_status</th>\n",
       "      <th>issue_d</th>\n",
       "      <th>loan_status</th>\n",
       "      <th>purpose</th>\n",
       "      <th>dti</th>\n",
       "      <th>earliest_cr_line</th>\n",
       "      <th>inq_last_6mths</th>\n",
       "      <th>open_acc</th>\n",
       "      <th>pub_rec</th>\n",
       "      <th>revol_util</th>\n",
       "      <th>total_acc</th>\n",
       "      <th>issue_yr</th>\n",
       "      <th>annual_inc_bin</th>\n",
       "    </tr>\n",
       "  </thead>\n",
       "  <tbody>\n",
       "    <tr>\n",
       "      <th>0</th>\n",
       "      <td>5000</td>\n",
       "      <td>4975.0</td>\n",
       "      <td>36 months</td>\n",
       "      <td>10.65</td>\n",
       "      <td>162.87</td>\n",
       "      <td>B</td>\n",
       "      <td>B2</td>\n",
       "      <td>10</td>\n",
       "      <td>RENT</td>\n",
       "      <td>24000.0</td>\n",
       "      <td>Verified</td>\n",
       "      <td>Dec-11</td>\n",
       "      <td>Fully Paid</td>\n",
       "      <td>credit_card</td>\n",
       "      <td>27.65</td>\n",
       "      <td>Jan-85</td>\n",
       "      <td>1</td>\n",
       "      <td>3</td>\n",
       "      <td>0</td>\n",
       "      <td>83.70</td>\n",
       "      <td>9</td>\n",
       "      <td>2011</td>\n",
       "      <td>3.8k-41k</td>\n",
       "    </tr>\n",
       "    <tr>\n",
       "      <th>1</th>\n",
       "      <td>2500</td>\n",
       "      <td>2500.0</td>\n",
       "      <td>60 months</td>\n",
       "      <td>15.27</td>\n",
       "      <td>59.83</td>\n",
       "      <td>C</td>\n",
       "      <td>C4</td>\n",
       "      <td>1</td>\n",
       "      <td>RENT</td>\n",
       "      <td>30000.0</td>\n",
       "      <td>Source Verified</td>\n",
       "      <td>Dec-11</td>\n",
       "      <td>Charged Off</td>\n",
       "      <td>car</td>\n",
       "      <td>1.00</td>\n",
       "      <td>Apr-99</td>\n",
       "      <td>5</td>\n",
       "      <td>3</td>\n",
       "      <td>0</td>\n",
       "      <td>9.40</td>\n",
       "      <td>4</td>\n",
       "      <td>2011</td>\n",
       "      <td>3.8k-41k</td>\n",
       "    </tr>\n",
       "    <tr>\n",
       "      <th>2</th>\n",
       "      <td>2400</td>\n",
       "      <td>2400.0</td>\n",
       "      <td>36 months</td>\n",
       "      <td>15.96</td>\n",
       "      <td>84.33</td>\n",
       "      <td>C</td>\n",
       "      <td>C5</td>\n",
       "      <td>10</td>\n",
       "      <td>RENT</td>\n",
       "      <td>12252.0</td>\n",
       "      <td>Not Verified</td>\n",
       "      <td>Dec-11</td>\n",
       "      <td>Fully Paid</td>\n",
       "      <td>small_business</td>\n",
       "      <td>8.72</td>\n",
       "      <td>Nov-01</td>\n",
       "      <td>2</td>\n",
       "      <td>2</td>\n",
       "      <td>0</td>\n",
       "      <td>98.50</td>\n",
       "      <td>10</td>\n",
       "      <td>2011</td>\n",
       "      <td>3.8k-41k</td>\n",
       "    </tr>\n",
       "    <tr>\n",
       "      <th>3</th>\n",
       "      <td>10000</td>\n",
       "      <td>10000.0</td>\n",
       "      <td>36 months</td>\n",
       "      <td>13.49</td>\n",
       "      <td>339.31</td>\n",
       "      <td>C</td>\n",
       "      <td>C1</td>\n",
       "      <td>10</td>\n",
       "      <td>RENT</td>\n",
       "      <td>49200.0</td>\n",
       "      <td>Source Verified</td>\n",
       "      <td>Dec-11</td>\n",
       "      <td>Fully Paid</td>\n",
       "      <td>other</td>\n",
       "      <td>20.00</td>\n",
       "      <td>Feb-96</td>\n",
       "      <td>1</td>\n",
       "      <td>10</td>\n",
       "      <td>0</td>\n",
       "      <td>21</td>\n",
       "      <td>37</td>\n",
       "      <td>2011</td>\n",
       "      <td>41k-77k</td>\n",
       "    </tr>\n",
       "    <tr>\n",
       "      <th>5</th>\n",
       "      <td>5000</td>\n",
       "      <td>5000.0</td>\n",
       "      <td>36 months</td>\n",
       "      <td>7.90</td>\n",
       "      <td>156.46</td>\n",
       "      <td>A</td>\n",
       "      <td>A4</td>\n",
       "      <td>3</td>\n",
       "      <td>RENT</td>\n",
       "      <td>36000.0</td>\n",
       "      <td>Source Verified</td>\n",
       "      <td>Dec-11</td>\n",
       "      <td>Fully Paid</td>\n",
       "      <td>wedding</td>\n",
       "      <td>11.20</td>\n",
       "      <td>Nov-04</td>\n",
       "      <td>3</td>\n",
       "      <td>9</td>\n",
       "      <td>0</td>\n",
       "      <td>28.30</td>\n",
       "      <td>12</td>\n",
       "      <td>2011</td>\n",
       "      <td>3.8k-41k</td>\n",
       "    </tr>\n",
       "  </tbody>\n",
       "</table>\n",
       "</div>"
      ],
      "text/plain": [
       "   loan_amnt  funded_amnt_inv        term  int_rate  installment grade  \\\n",
       "0       5000           4975.0   36 months     10.65       162.87     B   \n",
       "1       2500           2500.0   60 months     15.27        59.83     C   \n",
       "2       2400           2400.0   36 months     15.96        84.33     C   \n",
       "3      10000          10000.0   36 months     13.49       339.31     C   \n",
       "5       5000           5000.0   36 months      7.90       156.46     A   \n",
       "\n",
       "  sub_grade  emp_length home_ownership  annual_inc verification_status  \\\n",
       "0        B2          10           RENT     24000.0            Verified   \n",
       "1        C4           1           RENT     30000.0     Source Verified   \n",
       "2        C5          10           RENT     12252.0        Not Verified   \n",
       "3        C1          10           RENT     49200.0     Source Verified   \n",
       "5        A4           3           RENT     36000.0     Source Verified   \n",
       "\n",
       "  issue_d  loan_status         purpose    dti earliest_cr_line  \\\n",
       "0  Dec-11   Fully Paid     credit_card  27.65           Jan-85   \n",
       "1  Dec-11  Charged Off             car   1.00           Apr-99   \n",
       "2  Dec-11   Fully Paid  small_business   8.72           Nov-01   \n",
       "3  Dec-11   Fully Paid           other  20.00           Feb-96   \n",
       "5  Dec-11   Fully Paid         wedding  11.20           Nov-04   \n",
       "\n",
       "   inq_last_6mths  open_acc  pub_rec revol_util  total_acc  issue_yr  \\\n",
       "0               1         3        0      83.70          9      2011   \n",
       "1               5         3        0       9.40          4      2011   \n",
       "2               2         2        0      98.50         10      2011   \n",
       "3               1        10        0         21         37      2011   \n",
       "5               3         9        0      28.30         12      2011   \n",
       "\n",
       "  annual_inc_bin  \n",
       "0       3.8k-41k  \n",
       "1       3.8k-41k  \n",
       "2       3.8k-41k  \n",
       "3        41k-77k  \n",
       "5       3.8k-41k  "
      ]
     },
     "execution_count": 57,
     "metadata": {},
     "output_type": "execute_result"
    }
   ],
   "source": [
    "print(loans_dataset['annual_inc_bin'].value_counts())\n",
    "loans_dataset.head()"
   ]
  },
  {
   "cell_type": "markdown",
   "id": "0cc846fd",
   "metadata": {},
   "source": [
    "Lets take Annual Salary as the basis for our further analysis\n",
    "### 1.  Annual salary with home ownership"
   ]
  },
  {
   "cell_type": "code",
   "execution_count": 119,
   "id": "6306710f",
   "metadata": {},
   "outputs": [
    {
     "data": {
      "image/png": "[encoded data removed]",
      "text/plain": [
       "<Figure size 864x864 with 1 Axes>"
      ]
     },
     "metadata": {
      "needs_background": "light"
     },
     "output_type": "display_data"
    }
   ],
   "source": [
    "plt.figure(figsize=(12,12))\n",
    "sns.barplot(data =loans_dataset,x='home_ownership', y='annual_inc', hue ='loan_status',palette=\"Set2\")\n",
    "plt.xlabel('Home Ownership')\n",
    "plt.ylabel('Annual Income')\n",
    "plt.show()"
   ]
  },
  {
   "cell_type": "markdown",
   "id": "f49664ad",
   "metadata": {},
   "source": [
    "### 2. Annual Income with Loan amount"
   ]
  },
  {
   "cell_type": "code",
   "execution_count": 117,
   "id": "d1fc03a4",
   "metadata": {},
   "outputs": [
    {
     "data": {
      "image/png": "[encoded data removed]",
      "text/plain": [
       "<Figure size 864x864 with 1 Axes>"
      ]
     },
     "metadata": {
      "needs_background": "light"
     },
     "output_type": "display_data"
    }
   ],
   "source": [
    "plt.figure(figsize=(12, 12))\n",
    "sns.barplot( data = loans_dataset, x = \"annual_inc_bin\", y = \"loan_amnt\", hue = 'loan_status', palette=\"Set2\")\n",
    "plt.ylabel('Loan Amount')\n",
    "plt.xlabel('Annual Income Bins')\n",
    "plt.show()"
   ]
  },
  {
   "cell_type": "markdown",
   "id": "3c94d5fe",
   "metadata": {},
   "source": [
    "### 3. Annual Income with Interest Rates"
   ]
  },
  {
   "cell_type": "code",
   "execution_count": 115,
   "id": "c8685744",
   "metadata": {},
   "outputs": [
    {
     "data": {
      "image/png": "[encoded data removed]",
      "text/plain": [
       "<Figure size 864x864 with 1 Axes>"
      ]
     },
     "metadata": {
      "needs_background": "light"
     },
     "output_type": "display_data"
    }
   ],
   "source": [
    "plt.figure(figsize=(12, 12))\n",
    "sns.barplot(data =loans_dataset ,x='annual_inc_bin', y='int_rate', hue ='loan_status',palette=\"Set2\")\n",
    "plt.ylabel('Interest Rate')\n",
    "plt.xlabel('Annual Income Bins')\n",
    "plt.show()"
   ]
  },
  {
   "cell_type": "markdown",
   "id": "198eef4d",
   "metadata": {},
   "source": [
    "### 4. Annual Income with Funded Amount Invested"
   ]
  },
  {
   "cell_type": "code",
   "execution_count": 114,
   "id": "98c2b84c",
   "metadata": {},
   "outputs": [
    {
     "data": {
      "image/png": "[encoded data removed]",
      "text/plain": [
       "<Figure size 864x864 with 1 Axes>"
      ]
     },
     "metadata": {
      "needs_background": "light"
     },
     "output_type": "display_data"
    }
   ],
   "source": [
    "plt.figure(figsize=(12,12))\n",
    "sns.barplot(data =loans_dataset ,x='annual_inc_bin', y='funded_amnt_inv', hue ='loan_status',palette=\"Set2\")\n",
    "plt.ylabel('Funded Amount Invested')\n",
    "plt.xlabel('Annual Income Bins')\n",
    "plt.show()"
   ]
  },
  {
   "cell_type": "markdown",
   "id": "a6425497",
   "metadata": {},
   "source": [
    "### 5. Annual Income with total_acc"
   ]
  },
  {
   "cell_type": "code",
   "execution_count": 113,
   "id": "5cf99dec",
   "metadata": {},
   "outputs": [
    {
     "data": {
      "image/png": "[encoded data removed]",
      "text/plain": [
       "<Figure size 864x864 with 1 Axes>"
      ]
     },
     "metadata": {
      "needs_background": "light"
     },
     "output_type": "display_data"
    }
   ],
   "source": [
    "plt.figure(figsize=(12,12))\n",
    "sns.barplot(data =loans_dataset ,x='annual_inc_bin', y='total_acc', hue ='loan_status',palette=\"Set2\")\n",
    "plt.ylabel('Total no. of credit accounts')\n",
    "plt.xlabel('Annual Income Bins')\n",
    "plt.show()"
   ]
  },
  {
   "cell_type": "markdown",
   "id": "060a03c2",
   "metadata": {},
   "source": [
    "### 6. Annual Income with Purpose"
   ]
  },
  {
   "cell_type": "code",
   "execution_count": 110,
   "id": "5b780279",
   "metadata": {},
   "outputs": [
    {
     "data": {
      "image/png": "[encoded data removed]",
      "text/plain": [
       "<Figure size 864x864 with 1 Axes>"
      ]
     },
     "metadata": {
      "needs_background": "light"
     },
     "output_type": "display_data"
    }
   ],
   "source": [
    "plt.figure(figsize=(12,12))\n",
    "sns.barplot(data =loans_dataset, x='annual_inc', y='purpose', hue ='loan_status',palette=\"Set2\")\n",
    "plt.ylabel('Loan Purpose')\n",
    "plt.xlabel('Annual Income')\n",
    "plt.show()"
   ]
  },
  {
   "cell_type": "markdown",
   "id": "fc243aa9",
   "metadata": {},
   "source": [
    "### 7. Annual Income with Verification status"
   ]
  },
  {
   "cell_type": "code",
   "execution_count": 97,
   "id": "35aee1e3",
   "metadata": {},
   "outputs": [
    {
     "data": {
      "image/png": "[encoded data removed]",
      "text/plain": [
       "<Figure size 864x864 with 1 Axes>"
      ]
     },
     "metadata": {
      "needs_background": "light"
     },
     "output_type": "display_data"
    }
   ],
   "source": [
    "plt.figure(figsize=(12,12))\n",
    "sns.barplot(data =loans_dataset, y='annual_inc', x='verification_status', hue ='loan_status',palette=\"Set2\")\n",
    "plt.xlabel('Verification Status')\n",
    "plt.ylabel('Annual Income')\n",
    "plt.show()"
   ]
  },
  {
   "cell_type": "markdown",
   "id": "8a46b592",
   "metadata": {},
   "source": [
    "### B. Loan Amount Binning"
   ]
  },
  {
   "cell_type": "code",
   "execution_count": 73,
   "id": "a43ae858",
   "metadata": {},
   "outputs": [],
   "source": [
    "loans_dataset['loan_amnt_bins'] = pd.cut(loans_dataset['loan_amnt'], bins=7,precision =0, labels=['0.5k-5.5k','5.5k-10.3k','10.3k-15.2k','15.2k-20.2k','20.2k-25.1k','25.1k-30k','30k-35k'])"
   ]
  },
  {
   "cell_type": "code",
   "execution_count": 74,
   "id": "8415c804",
   "metadata": {},
   "outputs": [
    {
     "data": {
      "text/plain": [
       "5.5k-10.3k     12457\n",
       "0.5k-5.5k       9675\n",
       "10.3k-15.2k     7552\n",
       "15.2k-20.2k     4146\n",
       "20.2k-25.1k     2642\n",
       "25.1k-30k        647\n",
       "30k-35k          639\n",
       "Name: loan_amnt_bins, dtype: int64"
      ]
     },
     "execution_count": 74,
     "metadata": {},
     "output_type": "execute_result"
    }
   ],
   "source": [
    "loans_dataset['loan_amnt_bins'].value_counts()"
   ]
  },
  {
   "cell_type": "code",
   "execution_count": 75,
   "id": "3dea6eaf",
   "metadata": {},
   "outputs": [
    {
     "data": {
      "text/html": [
       "<div>\n",
       "<style scoped>\n",
       "    .dataframe tbody tr th:only-of-type {\n",
       "        vertical-align: middle;\n",
       "    }\n",
       "\n",
       "    .dataframe tbody tr th {\n",
       "        vertical-align: top;\n",
       "    }\n",
       "\n",
       "    .dataframe thead th {\n",
       "        text-align: right;\n",
       "    }\n",
       "</style>\n",
       "<table border=\"1\" class=\"dataframe\">\n",
       "  <thead>\n",
       "    <tr style=\"text-align: right;\">\n",
       "      <th></th>\n",
       "      <th>loan_amnt</th>\n",
       "      <th>funded_amnt_inv</th>\n",
       "      <th>term</th>\n",
       "      <th>int_rate</th>\n",
       "      <th>installment</th>\n",
       "      <th>grade</th>\n",
       "      <th>sub_grade</th>\n",
       "      <th>emp_length</th>\n",
       "      <th>home_ownership</th>\n",
       "      <th>annual_inc</th>\n",
       "      <th>verification_status</th>\n",
       "      <th>issue_d</th>\n",
       "      <th>loan_status</th>\n",
       "      <th>purpose</th>\n",
       "      <th>dti</th>\n",
       "      <th>earliest_cr_line</th>\n",
       "      <th>inq_last_6mths</th>\n",
       "      <th>open_acc</th>\n",
       "      <th>pub_rec</th>\n",
       "      <th>revol_util</th>\n",
       "      <th>total_acc</th>\n",
       "      <th>issue_yr</th>\n",
       "      <th>annual_inc_bin</th>\n",
       "      <th>loan_amnt_bins</th>\n",
       "    </tr>\n",
       "  </thead>\n",
       "  <tbody>\n",
       "    <tr>\n",
       "      <th>0</th>\n",
       "      <td>5000</td>\n",
       "      <td>4975.0</td>\n",
       "      <td>36 months</td>\n",
       "      <td>10.65</td>\n",
       "      <td>162.87</td>\n",
       "      <td>B</td>\n",
       "      <td>B2</td>\n",
       "      <td>10</td>\n",
       "      <td>RENT</td>\n",
       "      <td>24000.0</td>\n",
       "      <td>Verified</td>\n",
       "      <td>Dec-11</td>\n",
       "      <td>Fully Paid</td>\n",
       "      <td>credit_card</td>\n",
       "      <td>27.65</td>\n",
       "      <td>Jan-85</td>\n",
       "      <td>1</td>\n",
       "      <td>3</td>\n",
       "      <td>0</td>\n",
       "      <td>83.70</td>\n",
       "      <td>9</td>\n",
       "      <td>2011</td>\n",
       "      <td>3.8k-41k</td>\n",
       "      <td>0.5k-5.5k</td>\n",
       "    </tr>\n",
       "    <tr>\n",
       "      <th>1</th>\n",
       "      <td>2500</td>\n",
       "      <td>2500.0</td>\n",
       "      <td>60 months</td>\n",
       "      <td>15.27</td>\n",
       "      <td>59.83</td>\n",
       "      <td>C</td>\n",
       "      <td>C4</td>\n",
       "      <td>1</td>\n",
       "      <td>RENT</td>\n",
       "      <td>30000.0</td>\n",
       "      <td>Source Verified</td>\n",
       "      <td>Dec-11</td>\n",
       "      <td>Charged Off</td>\n",
       "      <td>car</td>\n",
       "      <td>1.00</td>\n",
       "      <td>Apr-99</td>\n",
       "      <td>5</td>\n",
       "      <td>3</td>\n",
       "      <td>0</td>\n",
       "      <td>9.40</td>\n",
       "      <td>4</td>\n",
       "      <td>2011</td>\n",
       "      <td>3.8k-41k</td>\n",
       "      <td>0.5k-5.5k</td>\n",
       "    </tr>\n",
       "    <tr>\n",
       "      <th>2</th>\n",
       "      <td>2400</td>\n",
       "      <td>2400.0</td>\n",
       "      <td>36 months</td>\n",
       "      <td>15.96</td>\n",
       "      <td>84.33</td>\n",
       "      <td>C</td>\n",
       "      <td>C5</td>\n",
       "      <td>10</td>\n",
       "      <td>RENT</td>\n",
       "      <td>12252.0</td>\n",
       "      <td>Not Verified</td>\n",
       "      <td>Dec-11</td>\n",
       "      <td>Fully Paid</td>\n",
       "      <td>small_business</td>\n",
       "      <td>8.72</td>\n",
       "      <td>Nov-01</td>\n",
       "      <td>2</td>\n",
       "      <td>2</td>\n",
       "      <td>0</td>\n",
       "      <td>98.50</td>\n",
       "      <td>10</td>\n",
       "      <td>2011</td>\n",
       "      <td>3.8k-41k</td>\n",
       "      <td>0.5k-5.5k</td>\n",
       "    </tr>\n",
       "    <tr>\n",
       "      <th>3</th>\n",
       "      <td>10000</td>\n",
       "      <td>10000.0</td>\n",
       "      <td>36 months</td>\n",
       "      <td>13.49</td>\n",
       "      <td>339.31</td>\n",
       "      <td>C</td>\n",
       "      <td>C1</td>\n",
       "      <td>10</td>\n",
       "      <td>RENT</td>\n",
       "      <td>49200.0</td>\n",
       "      <td>Source Verified</td>\n",
       "      <td>Dec-11</td>\n",
       "      <td>Fully Paid</td>\n",
       "      <td>other</td>\n",
       "      <td>20.00</td>\n",
       "      <td>Feb-96</td>\n",
       "      <td>1</td>\n",
       "      <td>10</td>\n",
       "      <td>0</td>\n",
       "      <td>21</td>\n",
       "      <td>37</td>\n",
       "      <td>2011</td>\n",
       "      <td>41k-77k</td>\n",
       "      <td>5.5k-10.3k</td>\n",
       "    </tr>\n",
       "    <tr>\n",
       "      <th>5</th>\n",
       "      <td>5000</td>\n",
       "      <td>5000.0</td>\n",
       "      <td>36 months</td>\n",
       "      <td>7.90</td>\n",
       "      <td>156.46</td>\n",
       "      <td>A</td>\n",
       "      <td>A4</td>\n",
       "      <td>3</td>\n",
       "      <td>RENT</td>\n",
       "      <td>36000.0</td>\n",
       "      <td>Source Verified</td>\n",
       "      <td>Dec-11</td>\n",
       "      <td>Fully Paid</td>\n",
       "      <td>wedding</td>\n",
       "      <td>11.20</td>\n",
       "      <td>Nov-04</td>\n",
       "      <td>3</td>\n",
       "      <td>9</td>\n",
       "      <td>0</td>\n",
       "      <td>28.30</td>\n",
       "      <td>12</td>\n",
       "      <td>2011</td>\n",
       "      <td>3.8k-41k</td>\n",
       "      <td>0.5k-5.5k</td>\n",
       "    </tr>\n",
       "  </tbody>\n",
       "</table>\n",
       "</div>"
      ],
      "text/plain": [
       "   loan_amnt  funded_amnt_inv        term  int_rate  installment grade  \\\n",
       "0       5000           4975.0   36 months     10.65       162.87     B   \n",
       "1       2500           2500.0   60 months     15.27        59.83     C   \n",
       "2       2400           2400.0   36 months     15.96        84.33     C   \n",
       "3      10000          10000.0   36 months     13.49       339.31     C   \n",
       "5       5000           5000.0   36 months      7.90       156.46     A   \n",
       "\n",
       "  sub_grade  emp_length home_ownership  annual_inc verification_status  \\\n",
       "0        B2          10           RENT     24000.0            Verified   \n",
       "1        C4           1           RENT     30000.0     Source Verified   \n",
       "2        C5          10           RENT     12252.0        Not Verified   \n",
       "3        C1          10           RENT     49200.0     Source Verified   \n",
       "5        A4           3           RENT     36000.0     Source Verified   \n",
       "\n",
       "  issue_d  loan_status         purpose    dti earliest_cr_line  \\\n",
       "0  Dec-11   Fully Paid     credit_card  27.65           Jan-85   \n",
       "1  Dec-11  Charged Off             car   1.00           Apr-99   \n",
       "2  Dec-11   Fully Paid  small_business   8.72           Nov-01   \n",
       "3  Dec-11   Fully Paid           other  20.00           Feb-96   \n",
       "5  Dec-11   Fully Paid         wedding  11.20           Nov-04   \n",
       "\n",
       "   inq_last_6mths  open_acc  pub_rec revol_util  total_acc  issue_yr  \\\n",
       "0               1         3        0      83.70          9      2011   \n",
       "1               5         3        0       9.40          4      2011   \n",
       "2               2         2        0      98.50         10      2011   \n",
       "3               1        10        0         21         37      2011   \n",
       "5               3         9        0      28.30         12      2011   \n",
       "\n",
       "  annual_inc_bin loan_amnt_bins  \n",
       "0       3.8k-41k      0.5k-5.5k  \n",
       "1       3.8k-41k      0.5k-5.5k  \n",
       "2       3.8k-41k      0.5k-5.5k  \n",
       "3        41k-77k     5.5k-10.3k  \n",
       "5       3.8k-41k      0.5k-5.5k  "
      ]
     },
     "execution_count": 75,
     "metadata": {},
     "output_type": "execute_result"
    }
   ],
   "source": [
    "loans_dataset.head()"
   ]
  },
  {
   "cell_type": "markdown",
   "id": "aabab014",
   "metadata": {},
   "source": [
    "Lets take Loan Amount as the basis for our first few analysis\n",
    "### 1.  Loan Amount with home ownership"
   ]
  },
  {
   "cell_type": "code",
   "execution_count": 98,
   "id": "083119b3",
   "metadata": {},
   "outputs": [
    {
     "data": {
      "image/png": "[encoded data removed]",
      "text/plain": [
       "<Figure size 864x864 with 1 Axes>"
      ]
     },
     "metadata": {
      "needs_background": "light"
     },
     "output_type": "display_data"
    }
   ],
   "source": [
    "plt.figure(figsize=(12,12))\n",
    "sns.barplot(data =loans_dataset, x='loan_amnt', y='home_ownership', hue ='loan_status',palette=\"Set2\")\n",
    "plt.xlabel('Loan Amount')\n",
    "plt.ylabel('Home Ownership')\n",
    "plt.show()"
   ]
  },
  {
   "cell_type": "markdown",
   "id": "d9891432",
   "metadata": {},
   "source": [
    "### 2.  Loan Amount with Loan purpose"
   ]
  },
  {
   "cell_type": "code",
   "execution_count": 100,
   "id": "b3bbdb57",
   "metadata": {},
   "outputs": [
    {
     "data": {
      "image/png": "[encoded data removed]",
      "text/plain": [
       "<Figure size 864x864 with 1 Axes>"
      ]
     },
     "metadata": {
      "needs_background": "light"
     },
     "output_type": "display_data"
    }
   ],
   "source": [
    "plt.figure(figsize=(12,12))\n",
    "sns.barplot(data =loans_dataset, x='loan_amnt', y='purpose', hue ='loan_status',palette=\"Set2\")\n",
    "plt.xlabel('Loan Amount')\n",
    "plt.ylabel('Loan Purpose')\n",
    "plt.show()"
   ]
  },
  {
   "cell_type": "markdown",
   "id": "3f5ffe30",
   "metadata": {},
   "source": [
    "#### 3. Loan amount with Interest rate"
   ]
  },
  {
   "cell_type": "code",
   "execution_count": 101,
   "id": "e0f50899",
   "metadata": {},
   "outputs": [
    {
     "data": {
      "image/png": "[encoded data removed]",
      "text/plain": [
       "<Figure size 864x864 with 1 Axes>"
      ]
     },
     "metadata": {
      "needs_background": "light"
     },
     "output_type": "display_data"
    }
   ],
   "source": [
    "plt.figure(figsize=(12,12))\n",
    "sns.barplot(data =loans_dataset, x='loan_amnt_bins', y='int_rate', hue ='loan_status',palette=\"Set2\")\n",
    "plt.xlabel('Loan Amount')\n",
    "plt.ylabel('Interest Rate of Loan')\n",
    "plt.show()"
   ]
  },
  {
   "cell_type": "markdown",
   "id": "28619954",
   "metadata": {},
   "source": [
    "#### 4. Loan amount with Issue Year"
   ]
  },
  {
   "cell_type": "code",
   "execution_count": 105,
   "id": "376623f0",
   "metadata": {},
   "outputs": [
    {
     "data": {
      "image/png": "[encoded data removed]",
      "text/plain": [
       "<Figure size 864x864 with 1 Axes>"
      ]
     },
     "metadata": {
      "needs_background": "light"
     },
     "output_type": "display_data"
    }
   ],
   "source": [
    "plt.figure(figsize=(12,12))\n",
    "sns.barplot(data =loans_dataset, y='loan_amnt', x='verification_status', hue ='loan_status',palette=\"Set2\")\n",
    "plt.ylabel('Loan Amount')\n",
    "plt.xlabel('Verification Status')\n",
    "plt.show()"
   ]
  },
  {
   "cell_type": "markdown",
   "id": "4fb97190",
   "metadata": {},
   "source": [
    "#### 5. Loan Amount with Employment Length"
   ]
  },
  {
   "cell_type": "code",
   "execution_count": 107,
   "id": "3b818538",
   "metadata": {},
   "outputs": [
    {
     "data": {
      "image/png": "[encoded data removed]",
      "text/plain": [
       "<Figure size 864x864 with 1 Axes>"
      ]
     },
     "metadata": {
      "needs_background": "light"
     },
     "output_type": "display_data"
    }
   ],
   "source": [
    "plt.figure(figsize=(12,12))\n",
    "sns.barplot(data =loans_dataset, x='loan_amnt_bins', y='emp_length', hue ='loan_status',palette=\"Set2\")\n",
    "plt.xlabel('Loan Amount')\n",
    "plt.ylabel('Employment Length')\n",
    "plt.show()"
   ]
  },
  {
   "cell_type": "code",
   "execution_count": 109,
   "id": "20c12c71",
   "metadata": {},
   "outputs": [
    {
     "data": {
      "image/png": "[encoded data removed]",
      "text/plain": [
       "<Figure size 864x864 with 1 Axes>"
      ]
     },
     "metadata": {
      "needs_background": "light"
     },
     "output_type": "display_data"
    }
   ],
   "source": [
    "plt.figure(figsize=(12,12))\n",
    "sns.barplot(data =loans_dataset, y='int_rate', x='loan_status', hue ='loan_status',palette=\"Set2\")\n",
    "plt.xlabel('Loan Status')\n",
    "plt.ylabel('Interest Rate')\n",
    "plt.show()"
   ]
  },
  {
   "cell_type": "markdown",
   "id": "c725de17",
   "metadata": {},
   "source": [
    "### This gives us an indication that for charged off loans, the interest rates were high"
   ]
  },
  {
   "cell_type": "code",
   "execution_count": null,
   "id": "706bab1d",
   "metadata": {},
   "outputs": [],
   "source": []
  }
 ],
 "metadata": {
  "kernelspec": {
   "display_name": "Python 3",
   "language": "python",
   "name": "python3"
  },
  "language_info": {
   "codemirror_mode": {
    "name": "ipython",
    "version": 3
   },
   "file_extension": ".py",
   "mimetype": "text/x-python",
   "name": "python",
   "nbconvert_exporter": "python",
   "pygments_lexer": "ipython3",
   "version": "3.8.8"
  }
 },
 "nbformat": 4,
 "nbformat_minor": 5
}
